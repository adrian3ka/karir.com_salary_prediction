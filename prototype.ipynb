{
 "cells": [
  {
   "cell_type": "code",
   "execution_count": 1,
   "metadata": {},
   "outputs": [],
   "source": [
    "import tensorflow as tf\n",
    "import numpy as np\n",
    "import csv\n",
    "import os\n",
    "import pandas as pd\n",
    "from pandas import DataFrame as DF"
   ]
  },
  {
   "cell_type": "code",
   "execution_count": 2,
   "metadata": {},
   "outputs": [],
   "source": [
    "DIR = os.getcwd() \n",
    "PATH = DIR + '/input/'\n",
    "PATH_PREDEFINED = DIR + '/predefined_data/'\n",
    "PATH_WEIGHT = DIR + '/weight/'\n",
    "TIPE_PERUSAHAAN = []\n",
    "PENDIDIKAN_TERAKHIR = []\n",
    "LOKASI = []\n",
    "TIPE_INDUSTRI = []\n",
    "KATEGORI_PEKERJAAN = []\n",
    "JENJANG_KARIR = []\n",
    "PENGALAMAN_KERJA = []\n",
    "SALARY = []\n",
    "NAMA =[]"
   ]
  },
  {
   "cell_type": "code",
   "execution_count": 3,
   "metadata": {},
   "outputs": [
    {
     "name": "stdout",
     "output_type": "stream",
     "text": [
      "('Lokal/Nasional', 0.372491039)\n",
      "('Multinasional', 0.627508961)\n"
     ]
    }
   ],
   "source": [
    "# PREDEFINED TIPE PERUSAHAAN\n",
    "PREDEFINED_TIPE_PERUSAHAAN = []\n",
    "file_tipe_perusahaan = open( PATH_PREDEFINED +\"predefined_tipe_perusahaan.csv\", \"r\")\n",
    "reader = csv.reader(file_tipe_perusahaan, quoting=csv.QUOTE_NONE)\n",
    "for line in reader:\n",
    "    t=(line[0]),float((line[2]))\n",
    "    print t\n",
    "    PREDEFINED_TIPE_PERUSAHAAN.append(t)\n",
    "#print PREDEFINED_TIPE_PERUSAHAAN"
   ]
  },
  {
   "cell_type": "code",
   "execution_count": 4,
   "metadata": {},
   "outputs": [
    {
     "name": "stdout",
     "output_type": "stream",
     "text": [
      "('any', 0.802274781)\n",
      "('high school', 1.021702927)\n",
      "('associate', 1.194502861)\n",
      "('bachelors', 2.56780837)\n",
      "('masters', 4.413711062)\n"
     ]
    }
   ],
   "source": [
    "# PREDEFINED PENDIDIKAN TERAKHIR\n",
    "PREDEFINED_PENDIDIKAN_TERAKHIR = []\n",
    "file_pendidikan_terakhir = open( PATH_PREDEFINED +\"predefined_pendidikan_terakhir.csv\", \"r\")\n",
    "reader = csv.reader(file_pendidikan_terakhir, quoting=csv.QUOTE_NONE)\n",
    "for line in reader:\n",
    "    t=(line[0]),float((line[2]))\n",
    "    print t\n",
    "    PREDEFINED_PENDIDIKAN_TERAKHIR.append(t)\n",
    "#print PREDEFINED_PENDIDIKAN_TERAKHIR"
   ]
  },
  {
   "cell_type": "code",
   "execution_count": 5,
   "metadata": {},
   "outputs": [
    {
     "name": "stdout",
     "output_type": "stream",
     "text": [
      "('Solo', 0.6441536752)\n",
      "('Yogyakarta', 0.6597682352)\n",
      "('Tangerang', 0.7951902832)\n",
      "('Semarang', 0.8917426926)\n",
      "('Bali', 0.9121682355)\n",
      "('Makasar', 1.050997307)\n",
      "('Medan', 1.061201007)\n",
      "('Bandung', 1.19332489)\n",
      "('Surabaya', 1.38323461)\n",
      "('DKI-Jakarta', 1.408219064)\n"
     ]
    }
   ],
   "source": [
    "# PREDEFINED LOCATION\n",
    "PREDEFINED_LOKASI = []\n",
    "file_location = open( PATH_PREDEFINED +\"predefined_location.csv\", \"r\")\n",
    "reader = csv.reader(file_location, quoting=csv.QUOTE_NONE)\n",
    "for line in reader:\n",
    "    t=(line[0]),float((line[2]))\n",
    "    print t\n",
    "    PREDEFINED_LOKASI.append(t)\n",
    "#print PREDEFINED_LOCATION"
   ]
  },
  {
   "cell_type": "code",
   "execution_count": 6,
   "metadata": {},
   "outputs": [
    {
     "name": "stdout",
     "output_type": "stream",
     "text": [
      "('Agribisnis', 0.3260248819)\n",
      "('Farmasi', 0.3334235684)\n",
      "('Hotel', 0.3094920769)\n",
      "('Hukum', 0.4643098081)\n",
      "('Internet', 0.2990776806)\n",
      "('Keuangan / Bank', 0.3188113769)\n",
      "('Kimia', 0.4515828785)\n",
      "('Komputer / TI', 0.3564961367)\n",
      "('Konglomerasi', 1.38678492)\n",
      "('Konstruksi', 0.3473378862)\n",
      "('Konsultan (Bisnis & Manajemen)', 0.3329599618)\n",
      "('Konsultan (IT, IPTEK)', 0.3171655273)\n",
      "('Logistik / Transportasi', 0.3265541211)\n",
      "('Manufaktur', 0.3728770435)\n",
      "('Media', 0.2832822774)\n",
      "('Minyak dan Gas', 0.5980415408)\n",
      "('Otomotif', 0.2966217506)\n",
      "('Pendidikan', 0.1858335722)\n",
      "('Perdagangan Umum', 0.3009773524)\n",
      "('Pertambangan / Mineral', 0.6448564886)\n",
      "('Produk Konsumen', 0.3772001753)\n",
      "('Properti', 0.4145214971)\n",
      "('Ritel', 0.2834634106)\n",
      "('Servis', 0.3298191325)\n",
      "('Telecommunication', 0.3424849349)\n"
     ]
    }
   ],
   "source": [
    "# PREDEFINED TIPE INDUSTRI\n",
    "PREDEFINED_TIPE_INDUSTRI = []\n",
    "file_tipe_industri= open( PATH_PREDEFINED +\"predefined_tipe_industri.csv\", \"r\")\n",
    "reader = csv.reader(file_tipe_industri, quoting=csv.QUOTE_NONE,delimiter =';')\n",
    "for line in reader:\n",
    "    t=(line[0]),float((line[2]))\n",
    "    print t\n",
    "    PREDEFINED_TIPE_INDUSTRI.append(t)\n",
    "#print PREDEFINED_TIPE_INDUSTRI"
   ]
  },
  {
   "cell_type": "code",
   "execution_count": 7,
   "metadata": {},
   "outputs": [
    {
     "name": "stdout",
     "output_type": "stream",
     "text": [
      "('Administrasi', 0.1769864961)\n",
      "('Akuntansi/Keuangan', 0.3616598224)\n",
      "('Arsitek/Desain', 0.2597706893)\n",
      "('Bagian Umum', 0.1854881192)\n",
      "('Bank, Keuangan & Asuransi', 0.3243710283)\n",
      "('Hospitality', 0.2836373783)\n",
      "('Hubungan Masyarakat', 0.3257784456)\n",
      "('Hukum/Korporasi', 0.461056248)\n",
      "('Ilmuwan', 0.3438036356)\n",
      "('Jurnalisme', 0.2262352659)\n",
      "('Kesehatan', 0.244838216)\n",
      "('Konsultan', 0.3819706222)\n",
      "('Layanan Pelanggan', 0.1869200456)\n",
      "('Magang', 0.1211118683)\n",
      "('Management Trainee', 0.2506146053)\n",
      "('Manajemen', 0.6116496985)\n",
      "('Manufaktur dan Produksi', 0.3536155737)\n",
      "('Maritim', 0.8062809216)\n",
      "('Model Fashion', 0.2487492484)\n",
      "('Operasional', 0.3327999942)\n",
      "('Pariwisata', 0.2164589241)\n",
      "('Pemerintahan', 0.2551501807)\n",
      "('Pendidikan', 0.1870203011)\n",
      "('Penerbangan', 0.5721916148)\n",
      "('Penerjemah', 0.331100867)\n",
      "('Penjualan dan Pemasaran', 0.3389789926)\n",
      "('Pustakawan', 0.1571164971)\n",
      "('Riset', 0.3082935148)\n",
      "('Sumber Daya Manusia', 0.4108722827)\n",
      "('Teknik', 0.3846045898)\n",
      "('Teknologi Informasi', 0.3508743129)\n"
     ]
    }
   ],
   "source": [
    "# PREDEFINED KATEGORI PEKERJAAN\n",
    "PREDEFINED_KATEGORI_PEKERJAAN = []\n",
    "file_kategori_pekerjaan= open( PATH_PREDEFINED +\"predefined_kategori_pekerjaan.csv\", \"r\")\n",
    "reader = csv.reader(file_kategori_pekerjaan, quoting=csv.QUOTE_NONE,delimiter =';')\n",
    "for line in reader:\n",
    "    t=(line[0]),float((line[2]))\n",
    "    print t\n",
    "    PREDEFINED_KATEGORI_PEKERJAAN.append(t)\n",
    "#print PREDEFINED_KATEGORI_PEKERJAAN"
   ]
  },
  {
   "cell_type": "code",
   "execution_count": 8,
   "metadata": {},
   "outputs": [
    {
     "name": "stdout",
     "output_type": "stream",
     "text": [
      "('entry level staff', 0.2529749632)\n",
      "('senior staff', 0.3624279951)\n",
      "('supervisor', 0.4629327499)\n",
      "('assistant manager', 0.5866609249)\n",
      "('engineer', 0.6385556742)\n",
      "('senior assistant manager', 0.7335220864)\n",
      "('manager branch', 0.7660160927)\n",
      "('business unit head', 0.8374399415)\n",
      "('manager department', 0.9310898708)\n",
      "('senior manager', 1.413131561)\n",
      "('general manager', 1.485255906)\n",
      "('assistant vice president', 1.529992235)\n"
     ]
    }
   ],
   "source": [
    "# PREDEFINED JENJANG KARIR\n",
    "PREDEFINED_JENJANG_KARIR = []\n",
    "file_jenjang_karir= open( PATH_PREDEFINED +\"predefined_jenjang_karir.csv\", \"r\")\n",
    "reader = csv.reader(file_jenjang_karir, quoting=csv.QUOTE_NONE)\n",
    "for line in reader:\n",
    "    t=(line[0]),float((line[2]))\n",
    "    print t\n",
    "    PREDEFINED_JENJANG_KARIR.append(t)\n",
    "#print PREDEFINED_JENJANG_KARIR"
   ]
  },
  {
   "cell_type": "code",
   "execution_count": 9,
   "metadata": {},
   "outputs": [],
   "source": [
    "def getPredefinedConstant(PREDEFINED_DATA,keys):\n",
    "    for data in PREDEFINED_DATA:\n",
    "        if (data[0] == keys):\n",
    "            return data[1]\n",
    "    print PREDEFINED_DATA\n",
    "    print keys\n",
    "    raise ValueError('Keys Not Found In Predefined Data')"
   ]
  },
  {
   "cell_type": "code",
   "execution_count": 10,
   "metadata": {},
   "outputs": [
    {
     "name": "stdout",
     "output_type": "stream",
     "text": [
      "('Lokal/Nasional', 'bachelors', 'DKI-Jakarta', 'Komputer / TI', 'Teknologi Informasi', 'entry level staff', '1')\n",
      "('Multinasional', 'bachelors', 'DKI-Jakarta', 'Produk Konsumen', 'Teknologi Informasi', 'senior staff', '8')\n",
      "('Lokal/Nasional', 'bachelors', 'DKI-Jakarta', 'Komputer / TI', 'Teknologi Informasi', 'senior staff', '4')\n"
     ]
    }
   ],
   "source": [
    "file = open( PATH +\"input.csv\", \"r\")\n",
    "reader = csv.reader(file, quoting=csv.QUOTE_NONE,delimiter =';')\n",
    "for line in reader:\n",
    "    t=(line[0]),(line[1]),(line[2]),(line[3]),(line[4]),(line[5]),(line[6])\n",
    "    TIPE_PERUSAHAAN.append(getPredefinedConstant(PREDEFINED_TIPE_PERUSAHAAN,line[0]))\n",
    "    PENDIDIKAN_TERAKHIR.append(getPredefinedConstant(PREDEFINED_PENDIDIKAN_TERAKHIR,line[1]))\n",
    "    LOKASI.append(getPredefinedConstant(PREDEFINED_LOKASI,line[2]))\n",
    "    TIPE_INDUSTRI.append(getPredefinedConstant(PREDEFINED_TIPE_INDUSTRI,line[3]))\n",
    "    KATEGORI_PEKERJAAN.append(getPredefinedConstant(PREDEFINED_KATEGORI_PEKERJAAN,line[4]))\n",
    "    JENJANG_KARIR.append(getPredefinedConstant(PREDEFINED_JENJANG_KARIR,line[5]))\n",
    "    PENGALAMAN_KERJA.append(float(line[6]))\n",
    "    NAMA.append(line[7])\n",
    "    print t"
   ]
  },
  {
   "cell_type": "code",
   "execution_count": 11,
   "metadata": {},
   "outputs": [
    {
     "name": "stdout",
     "output_type": "stream",
     "text": [
      "('TIPE_PERUSAHAAN', 1.5279791)\n",
      "('PENDIDIKAN_TERAKHIR', 0.75718564)\n",
      "('LOKASI', -0.15334773)\n",
      "('TIPE_INDUSTRI', 0.38300294)\n",
      "('KATEGORI_PEKERJAAN', 1.7419024)\n",
      "('JENJANG_KARIR', 6.518344)\n",
      "('PENGALAMAN_KERJA', 0.5575004)\n",
      "('BIAS', -0.2281513)\n"
     ]
    }
   ],
   "source": [
    "#read current weight\n",
    "file_tipe_industri= open( PATH_WEIGHT +\"weight.csv\", \"r\")\n",
    "reader = csv.reader(file_tipe_industri, quoting=csv.QUOTE_NONE,delimiter =',')\n",
    "next(reader,None)\n",
    "ARRAY_WEIGHT = []\n",
    "for line in reader:\n",
    "    t=(line[0]),float((line[1]))\n",
    "    print t\n",
    "    ARRAY_WEIGHT.append(t)\n",
    "WEIGHT_TIPE_PERUSAHAAN = [ARRAY_WEIGHT[0][1]]\n",
    "WEIGHT_PENDIDIKAN_TERAKHIR = [ARRAY_WEIGHT[1][1]]\n",
    "WEIGHT_LOKASI = [ARRAY_WEIGHT[2][1]]\n",
    "WEIGHT_TIPE_INDUSTRI = [ARRAY_WEIGHT[3][1]]\n",
    "WEIGHT_KATEGORI_PEKERJAAN = [ARRAY_WEIGHT[4][1]]\n",
    "WEIGHT_JENJANG_KARIR = [ARRAY_WEIGHT[5][1]]\n",
    "WEIGHT_PENGALAMAN_KERJA = [ARRAY_WEIGHT[6][1]]\n",
    "WEIGHT_BIAS = ARRAY_WEIGHT[7][1]"
   ]
  },
  {
   "cell_type": "code",
   "execution_count": 12,
   "metadata": {},
   "outputs": [],
   "source": [
    "def calculate (TIPE_PERUSAHAAN,PENDIDIKAN_TERAKHIR,LOKASI,TIPE_INDUSTRI,KATEGORI_PEKERJAAN,JENJANG_KARIR,PENGALAMAN_KERJA):\n",
    "    result =     TIPE_PERUSAHAAN * WEIGHT_TIPE_PERUSAHAAN[0]\n",
    "    result +=    PENDIDIKAN_TERAKHIR * WEIGHT_PENDIDIKAN_TERAKHIR[0]\n",
    "    result +=    LOKASI * WEIGHT_LOKASI[0] \n",
    "    result +=    TIPE_INDUSTRI * WEIGHT_TIPE_INDUSTRI[0]\n",
    "    result +=    KATEGORI_PEKERJAAN * WEIGHT_KATEGORI_PEKERJAAN[0]\n",
    "    result +=    JENJANG_KARIR * WEIGHT_JENJANG_KARIR[0]\n",
    "    result +=    PENGALAMAN_KERJA * WEIGHT_PENGALAMAN_KERJA[0]\n",
    "    return result\n",
    "    "
   ]
  },
  {
   "cell_type": "code",
   "execution_count": 13,
   "metadata": {},
   "outputs": [
    {
     "name": "stdout",
     "output_type": "stream",
     "text": [
      "Gaji Anonymous Antara  5.02357375948  hingga  5.47987635948 dengan tebakan :  5.25172505948\n",
      "Gaji Arya Ramandhu Antara  10.0371208358  hingga  10.4934234358 dengan tebakan :  10.2652721358\n",
      "Gaji Muhammad Sidratul Muntaha Antara  7.40952747324  hingga  7.86583007324 dengan tebakan :  7.63767877324\n"
     ]
    }
   ],
   "source": [
    "for i in range(len(TIPE_PERUSAHAAN)):\n",
    "    res = calculate (TIPE_PERUSAHAAN[i],PENDIDIKAN_TERAKHIR[i],LOKASI[i],TIPE_INDUSTRI[i],KATEGORI_PEKERJAAN[i],JENJANG_KARIR[i],PENGALAMAN_KERJA[i])\n",
    "    lower = res - abs(WEIGHT_BIAS)\n",
    "    upper = res + abs(WEIGHT_BIAS)\n",
    "    print 'Gaji ' + NAMA[i] + ' Antara ' , str(lower) , ' hingga ' , str(upper), 'dengan tebakan : ' , res"
   ]
  },
  {
   "cell_type": "code",
   "execution_count": null,
   "metadata": {},
   "outputs": [],
   "source": []
  }
 ],
 "metadata": {
  "kernelspec": {
   "display_name": "Python 2",
   "language": "python",
   "name": "python2"
  },
  "language_info": {
   "codemirror_mode": {
    "name": "ipython",
    "version": 2
   },
   "file_extension": ".py",
   "mimetype": "text/x-python",
   "name": "python",
   "nbconvert_exporter": "python",
   "pygments_lexer": "ipython2",
   "version": "2.7.15"
  }
 },
 "nbformat": 4,
 "nbformat_minor": 2
}
