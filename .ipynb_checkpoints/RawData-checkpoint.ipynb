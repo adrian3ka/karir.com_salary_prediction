{
 "cells": [
  {
   "cell_type": "markdown",
   "metadata": {},
   "source": [
    "# Define Environment"
   ]
  },
  {
   "cell_type": "code",
   "execution_count": 1,
   "metadata": {},
   "outputs": [],
   "source": [
    "ENV = 'development'"
   ]
  },
  {
   "cell_type": "markdown",
   "metadata": {},
   "source": [
    "# Initiate ETL"
   ]
  },
  {
   "cell_type": "code",
   "execution_count": 2,
   "metadata": {},
   "outputs": [
    {
     "name": "stderr",
     "output_type": "stream",
     "text": [
      "/home/adrianekas/.local/lib/python2.7/site-packages/psycopg2/__init__.py:144: UserWarning: The psycopg2 wheel package will be renamed from release 2.8; in order to keep installing from binary please use \"pip install psycopg2-binary\" instead. For details see: <http://initd.org/psycopg/docs/install.html#binary-install-from-pypi>.\n",
      "  \"\"\")\n"
     ]
    }
   ],
   "source": [
    "import tensorflow as tf\n",
    "import numpy as np\n",
    "import csv\n",
    "import os\n",
    "import pandas as pd\n",
    "from pandas import DataFrame as DF\n",
    "import yaml\n",
    "import psycopg2\n",
    "import sys\n",
    "import json\n",
    "import mysql.connector"
   ]
  },
  {
   "cell_type": "markdown",
   "metadata": {},
   "source": [
    "# 1. Objective: Infer how TIPE_PERUSAHAAN, PENDIDIKAN_TERAKHIR, and LOKASI, TIPE_INDUSTRI, KATEGORI_PEKERJAAN, JENJANG_KARIR, PENGALAMAN_KERJA, SALARY affects salary using a linear model"
   ]
  },
  {
   "cell_type": "code",
   "execution_count": 3,
   "metadata": {},
   "outputs": [],
   "source": [
    "DIR = os.getcwd()\n",
    "PATH_QUERY = DIR + '/sql_query/'\n",
    "\n",
    "QUERY_USER = \"\"\n",
    "QUERY_OPPORTUNITIES = \"\"\n",
    "TIPE_PERUSAHAAN = []\n",
    "PENDIDIKAN_TERAKHIR = []\n",
    "LOKASI = []\n",
    "TIPE_INDUSTRI = []\n",
    "KATEGORI_PEKERJAAN = []\n",
    "JENJANG_KARIR = []\n",
    "PENGALAMAN_KERJA = []\n",
    "SALARY = []\n",
    "GSOURCE = []"
   ]
  },
  {
   "cell_type": "markdown",
   "metadata": {},
   "source": [
    "# Prepare Connection"
   ]
  },
  {
   "cell_type": "code",
   "execution_count": 4,
   "metadata": {},
   "outputs": [],
   "source": [
    "CONFIG_PATH = DIR + '/config/'\n",
    "\n",
    "KARIR_DATABASE = CONFIG_PATH + 'karir.database.yaml'\n",
    "with open(KARIR_DATABASE, 'r') as stream:\n",
    "    try:\n",
    "        CONFIG = yaml.load(stream)\n",
    "        KARIR_CONFIG_ENV = CONFIG[ENV]\n",
    "    except yaml.YAMLError as exc:\n",
    "        print(exc)\n",
    "        \n",
    "ML_DATABASE = CONFIG_PATH + 'ml.database.yaml'\n",
    "with open(ML_DATABASE, 'r') as stream:\n",
    "    try:\n",
    "        CONFIG = yaml.load(stream)\n",
    "        ML_CONFIG_ENV = CONFIG[ENV]\n",
    "    except yaml.YAMLError as exc:\n",
    "        print(exc)"
   ]
  },
  {
   "cell_type": "markdown",
   "metadata": {},
   "source": [
    "# Prepare Query"
   ]
  },
  {
   "cell_type": "code",
   "execution_count": 5,
   "metadata": {},
   "outputs": [],
   "source": [
    "def getQuery (textFile):\n",
    "    query = \"\"\n",
    "    with open(PATH_QUERY + textFile) as f: \n",
    "        for line in f: \n",
    "            query += line\n",
    "    query.replace('\\n', ' ').replace('\\r', '').replace('\\xef', '').replace('\\xbb', '').replace('\\xbf', '')\n",
    "    return query"
   ]
  },
  {
   "cell_type": "code",
   "execution_count": 6,
   "metadata": {},
   "outputs": [],
   "source": [
    "QUERY_USER = getQuery(\"extract data\")\n",
    "QUERY_OPPORTUNITIES = getQuery(\"extract data - opportunities\")"
   ]
  },
  {
   "cell_type": "markdown",
   "metadata": {},
   "source": [
    "# Collect Data"
   ]
  },
  {
   "cell_type": "code",
   "execution_count": 7,
   "metadata": {},
   "outputs": [],
   "source": [
    "def collectData(QUERY):\n",
    "    try:\n",
    "        con = psycopg2.connect(database=KARIR_CONFIG_ENV['database'],\n",
    "                               user=KARIR_CONFIG_ENV['username'], \n",
    "                               password=KARIR_CONFIG_ENV['password'],\n",
    "                               port=KARIR_CONFIG_ENV['port'],\n",
    "                               host=KARIR_CONFIG_ENV['host'])\n",
    "        cur = con.cursor()\n",
    "\n",
    "        cur.execute(QUERY)\n",
    "\n",
    "        for row in cur:\n",
    "            TIPE_PERUSAHAAN.append(row[0])\n",
    "            PENDIDIKAN_TERAKHIR.append(row[1])\n",
    "            LOKASI.append(row[2])\n",
    "            TIPE_INDUSTRI.append(row[3])\n",
    "            KATEGORI_PEKERJAAN.append(row[4])\n",
    "            JENJANG_KARIR.append(row[5])\n",
    "            PENGALAMAN_KERJA.append(row[6])\n",
    "            SALARY.append(row[7])\n",
    "            GSOURCE.append(row[8])\n",
    "\n",
    "        cur.close()\n",
    "        print(\"done\")\n",
    "    except psycopg2.DatabaseError, e:\n",
    "        print 'Error %s' % e\n",
    "        sys.exit(1)\n",
    "    finally:\n",
    "        if con:\n",
    "            con.close()"
   ]
  },
  {
   "cell_type": "code",
   "execution_count": 8,
   "metadata": {},
   "outputs": [
    {
     "name": "stdout",
     "output_type": "stream",
     "text": [
      "done\n",
      "done\n"
     ]
    }
   ],
   "source": [
    "collectData(QUERY_USER)\n",
    "collectData(QUERY_OPPORTUNITIES)"
   ]
  },
  {
   "cell_type": "markdown",
   "metadata": {},
   "source": [
    "# 3. Data Cleaning"
   ]
  },
  {
   "cell_type": "code",
   "execution_count": 9,
   "metadata": {},
   "outputs": [
    {
     "name": "stdout",
     "output_type": "stream",
     "text": [
      "<class 'pandas.core.frame.DataFrame'>\n",
      "RangeIndex: 12047 entries, 0 to 12046\n",
      "Data columns (total 8 columns):\n",
      "TIPE_PERUSAHAAN        12047 non-null object\n",
      "PENDIDIKAN_TERKAHIR    12047 non-null object\n",
      "LOKASI                 12047 non-null object\n",
      "TIPE_PERUSAHAAN        12047 non-null object\n",
      "KATEGORI_PEKERJAAN     12047 non-null object\n",
      "JENJANG_KARIR          12047 non-null object\n",
      "PENGALAMAN_KERJA       12047 non-null float64\n",
      "SALARY                 12047 non-null int64\n",
      "dtypes: float64(1), int64(1), object(6)\n",
      "memory usage: 753.0+ KB\n"
     ]
    }
   ],
   "source": [
    "# make sure all data valid\n",
    "cols = ['TIPE_PERUSAHAAN','PENDIDIKAN_TERKAHIR','LOKASI',\n",
    "        'TIPE_PERUSAHAAN','KATEGORI_PEKERJAAN','JENJANG_KARIR',\n",
    "        'PENGALAMAN_KERJA']\n",
    "df = DF(list(zip(TIPE_PERUSAHAAN,PENDIDIKAN_TERAKHIR,LOKASI,\n",
    "                 TIPE_INDUSTRI,KATEGORI_PEKERJAAN,JENJANG_KARIR,\n",
    "                 PENGALAMAN_KERJA)),columns=cols)\n",
    "df['SALARY'] = SALARY\n",
    "df.info()"
   ]
  },
  {
   "cell_type": "code",
   "execution_count": 10,
   "metadata": {},
   "outputs": [
    {
     "data": {
      "text/html": [
       "<div>\n",
       "<style scoped>\n",
       "    .dataframe tbody tr th:only-of-type {\n",
       "        vertical-align: middle;\n",
       "    }\n",
       "\n",
       "    .dataframe tbody tr th {\n",
       "        vertical-align: top;\n",
       "    }\n",
       "\n",
       "    .dataframe thead th {\n",
       "        text-align: right;\n",
       "    }\n",
       "</style>\n",
       "<table border=\"1\" class=\"dataframe\">\n",
       "  <thead>\n",
       "    <tr style=\"text-align: right;\">\n",
       "      <th></th>\n",
       "      <th>PENGALAMAN_KERJA</th>\n",
       "      <th>SALARY</th>\n",
       "    </tr>\n",
       "  </thead>\n",
       "  <tbody>\n",
       "    <tr>\n",
       "      <th>count</th>\n",
       "      <td>12047.000000</td>\n",
       "      <td>1.204700e+04</td>\n",
       "    </tr>\n",
       "    <tr>\n",
       "      <th>mean</th>\n",
       "      <td>1.685241</td>\n",
       "      <td>4.824840e+06</td>\n",
       "    </tr>\n",
       "    <tr>\n",
       "      <th>std</th>\n",
       "      <td>1.896135</td>\n",
       "      <td>8.608743e+06</td>\n",
       "    </tr>\n",
       "    <tr>\n",
       "      <th>min</th>\n",
       "      <td>0.000000</td>\n",
       "      <td>0.000000e+00</td>\n",
       "    </tr>\n",
       "    <tr>\n",
       "      <th>25%</th>\n",
       "      <td>0.000000</td>\n",
       "      <td>2.500000e+06</td>\n",
       "    </tr>\n",
       "    <tr>\n",
       "      <th>50%</th>\n",
       "      <td>1.000000</td>\n",
       "      <td>2.500000e+06</td>\n",
       "    </tr>\n",
       "    <tr>\n",
       "      <th>75%</th>\n",
       "      <td>2.000000</td>\n",
       "      <td>3.500000e+06</td>\n",
       "    </tr>\n",
       "    <tr>\n",
       "      <th>max</th>\n",
       "      <td>24.000000</td>\n",
       "      <td>1.250000e+08</td>\n",
       "    </tr>\n",
       "  </tbody>\n",
       "</table>\n",
       "</div>"
      ],
      "text/plain": [
       "       PENGALAMAN_KERJA        SALARY\n",
       "count      12047.000000  1.204700e+04\n",
       "mean           1.685241  4.824840e+06\n",
       "std            1.896135  8.608743e+06\n",
       "min            0.000000  0.000000e+00\n",
       "25%            0.000000  2.500000e+06\n",
       "50%            1.000000  2.500000e+06\n",
       "75%            2.000000  3.500000e+06\n",
       "max           24.000000  1.250000e+08"
      ]
     },
     "execution_count": 10,
     "metadata": {},
     "output_type": "execute_result"
    }
   ],
   "source": [
    "df.describe()"
   ]
  },
  {
   "cell_type": "code",
   "execution_count": 11,
   "metadata": {},
   "outputs": [
    {
     "data": {
      "text/html": [
       "<div>\n",
       "<style scoped>\n",
       "    .dataframe tbody tr th:only-of-type {\n",
       "        vertical-align: middle;\n",
       "    }\n",
       "\n",
       "    .dataframe tbody tr th {\n",
       "        vertical-align: top;\n",
       "    }\n",
       "\n",
       "    .dataframe thead th {\n",
       "        text-align: right;\n",
       "    }\n",
       "</style>\n",
       "<table border=\"1\" class=\"dataframe\">\n",
       "  <thead>\n",
       "    <tr style=\"text-align: right;\">\n",
       "      <th></th>\n",
       "      <th>PENGALAMAN_KERJA</th>\n",
       "      <th>SALARY</th>\n",
       "    </tr>\n",
       "  </thead>\n",
       "  <tbody>\n",
       "    <tr>\n",
       "      <th>count</th>\n",
       "      <td>11982.000000</td>\n",
       "      <td>1.198200e+04</td>\n",
       "    </tr>\n",
       "    <tr>\n",
       "      <th>mean</th>\n",
       "      <td>1.687832</td>\n",
       "      <td>4.850164e+06</td>\n",
       "    </tr>\n",
       "    <tr>\n",
       "      <th>std</th>\n",
       "      <td>1.897051</td>\n",
       "      <td>8.625157e+06</td>\n",
       "    </tr>\n",
       "    <tr>\n",
       "      <th>min</th>\n",
       "      <td>0.000000</td>\n",
       "      <td>1.000000e+06</td>\n",
       "    </tr>\n",
       "    <tr>\n",
       "      <th>25%</th>\n",
       "      <td>0.000000</td>\n",
       "      <td>2.500000e+06</td>\n",
       "    </tr>\n",
       "    <tr>\n",
       "      <th>50%</th>\n",
       "      <td>1.000000</td>\n",
       "      <td>2.500000e+06</td>\n",
       "    </tr>\n",
       "    <tr>\n",
       "      <th>75%</th>\n",
       "      <td>2.000000</td>\n",
       "      <td>3.637500e+06</td>\n",
       "    </tr>\n",
       "    <tr>\n",
       "      <th>max</th>\n",
       "      <td>24.000000</td>\n",
       "      <td>1.250000e+08</td>\n",
       "    </tr>\n",
       "  </tbody>\n",
       "</table>\n",
       "</div>"
      ],
      "text/plain": [
       "       PENGALAMAN_KERJA        SALARY\n",
       "count      11982.000000  1.198200e+04\n",
       "mean           1.687832  4.850164e+06\n",
       "std            1.897051  8.625157e+06\n",
       "min            0.000000  1.000000e+06\n",
       "25%            0.000000  2.500000e+06\n",
       "50%            1.000000  2.500000e+06\n",
       "75%            2.000000  3.637500e+06\n",
       "max           24.000000  1.250000e+08"
      ]
     },
     "execution_count": 11,
     "metadata": {},
     "output_type": "execute_result"
    }
   ],
   "source": [
    "df = df[df.SALARY >= 1000000 ]\n",
    "df.describe()"
   ]
  },
  {
   "cell_type": "code",
   "execution_count": 12,
   "metadata": {},
   "outputs": [
    {
     "data": {
      "text/html": [
       "<div>\n",
       "<style scoped>\n",
       "    .dataframe tbody tr th:only-of-type {\n",
       "        vertical-align: middle;\n",
       "    }\n",
       "\n",
       "    .dataframe tbody tr th {\n",
       "        vertical-align: top;\n",
       "    }\n",
       "\n",
       "    .dataframe thead th {\n",
       "        text-align: right;\n",
       "    }\n",
       "</style>\n",
       "<table border=\"1\" class=\"dataframe\">\n",
       "  <thead>\n",
       "    <tr style=\"text-align: right;\">\n",
       "      <th></th>\n",
       "      <th>TIPE_PERUSAHAAN</th>\n",
       "      <th>PENDIDIKAN_TERKAHIR</th>\n",
       "      <th>LOKASI</th>\n",
       "      <th>TIPE_PERUSAHAAN</th>\n",
       "      <th>KATEGORI_PEKERJAAN</th>\n",
       "      <th>JENJANG_KARIR</th>\n",
       "      <th>PENGALAMAN_KERJA</th>\n",
       "      <th>SALARY</th>\n",
       "    </tr>\n",
       "  </thead>\n",
       "  <tbody>\n",
       "    <tr>\n",
       "      <th>0</th>\n",
       "      <td>Lokal/Nasional</td>\n",
       "      <td>associate</td>\n",
       "      <td>Tangerang</td>\n",
       "      <td>Keuangan / Bank</td>\n",
       "      <td>Operasional</td>\n",
       "      <td>supervisor</td>\n",
       "      <td>3.500000</td>\n",
       "      <td>6000000</td>\n",
       "    </tr>\n",
       "    <tr>\n",
       "      <th>1</th>\n",
       "      <td>Lokal/Nasional</td>\n",
       "      <td>associate</td>\n",
       "      <td>DKI-Jakarta</td>\n",
       "      <td>Perdagangan Umum</td>\n",
       "      <td>Manajemen</td>\n",
       "      <td>assistant manager</td>\n",
       "      <td>1.665525</td>\n",
       "      <td>16000000</td>\n",
       "    </tr>\n",
       "    <tr>\n",
       "      <th>2</th>\n",
       "      <td>Lokal/Nasional</td>\n",
       "      <td>associate</td>\n",
       "      <td>DKI-Jakarta</td>\n",
       "      <td>Properti</td>\n",
       "      <td>Teknik</td>\n",
       "      <td>entry level staff</td>\n",
       "      <td>0.832192</td>\n",
       "      <td>5000000</td>\n",
       "    </tr>\n",
       "    <tr>\n",
       "      <th>3</th>\n",
       "      <td>Lokal/Nasional</td>\n",
       "      <td>associate</td>\n",
       "      <td>Tangerang</td>\n",
       "      <td>Manufaktur</td>\n",
       "      <td>Management Trainee</td>\n",
       "      <td>entry level staff</td>\n",
       "      <td>0.250000</td>\n",
       "      <td>4250000</td>\n",
       "    </tr>\n",
       "    <tr>\n",
       "      <th>4</th>\n",
       "      <td>Multinasional</td>\n",
       "      <td>associate</td>\n",
       "      <td>Jakarta Selatan</td>\n",
       "      <td>Keuangan / Bank</td>\n",
       "      <td>Konsultan</td>\n",
       "      <td>entry level staff</td>\n",
       "      <td>0.183105</td>\n",
       "      <td>4250000</td>\n",
       "    </tr>\n",
       "  </tbody>\n",
       "</table>\n",
       "</div>"
      ],
      "text/plain": [
       "  TIPE_PERUSAHAAN PENDIDIKAN_TERKAHIR           LOKASI   TIPE_PERUSAHAAN  \\\n",
       "0  Lokal/Nasional           associate        Tangerang   Keuangan / Bank   \n",
       "1  Lokal/Nasional           associate      DKI-Jakarta  Perdagangan Umum   \n",
       "2  Lokal/Nasional           associate      DKI-Jakarta          Properti   \n",
       "3  Lokal/Nasional           associate        Tangerang        Manufaktur   \n",
       "4   Multinasional           associate  Jakarta Selatan   Keuangan / Bank   \n",
       "\n",
       "   KATEGORI_PEKERJAAN      JENJANG_KARIR  PENGALAMAN_KERJA    SALARY  \n",
       "0         Operasional         supervisor          3.500000   6000000  \n",
       "1           Manajemen  assistant manager          1.665525  16000000  \n",
       "2              Teknik  entry level staff          0.832192   5000000  \n",
       "3  Management Trainee  entry level staff          0.250000   4250000  \n",
       "4           Konsultan  entry level staff          0.183105   4250000  "
      ]
     },
     "execution_count": 12,
     "metadata": {},
     "output_type": "execute_result"
    }
   ],
   "source": [
    "df.describe(include=['object'])\n",
    "df.head()"
   ]
  },
  {
   "cell_type": "markdown",
   "metadata": {},
   "source": [
    "# 4. Export Data to ML DB"
   ]
  },
  {
   "cell_type": "code",
   "execution_count": 13,
   "metadata": {},
   "outputs": [
    {
     "name": "stdout",
     "output_type": "stream",
     "text": [
      "{'username': 'root', 'host': 'localhost', 'password': 'jacksparrow1', 'port': 3306, 'database': 'QML'}\n"
     ]
    }
   ],
   "source": [
    "print ML_CONFIG_ENV"
   ]
  },
  {
   "cell_type": "code",
   "execution_count": 14,
   "metadata": {},
   "outputs": [],
   "source": [
    "mydb = mysql.connector.connect(\n",
    "  host=ML_CONFIG_ENV['host'],\n",
    "  port=ML_CONFIG_ENV['port'],\n",
    "  user=ML_CONFIG_ENV['username'],\n",
    "  passwd=ML_CONFIG_ENV['password'],\n",
    "  database=ML_CONFIG_ENV['database']\n",
    ")\n",
    "\n",
    "mycursor = mydb.cursor()"
   ]
  },
  {
   "cell_type": "code",
   "execution_count": 15,
   "metadata": {},
   "outputs": [
    {
     "name": "stdout",
     "output_type": "stream",
     "text": [
      "11982\n"
     ]
    }
   ],
   "source": [
    "row_count = df.shape[0] \n",
    "print row_count"
   ]
  },
  {
   "cell_type": "code",
   "execution_count": null,
   "metadata": {},
   "outputs": [],
   "source": [
    "sql = (\"INSERT INTO Salary_RawData (tipe_perusahaan, pendidikan_terakhir,\" +\n",
    "       \"lokasi, tipe_industri, kategori_pekerjaan, jenjang_karir,\" +\n",
    "       \"pengalaman_kerja, salary , gsource) VALUES (%s,%s,%s,%s,%s,%s,%s,%s,%s)\")\n",
    "for i in range (0,row_count):\n",
    "    val = (df.iloc[i][0],df.iloc[i][1],df.iloc[i][2],df.iloc[i][3],\n",
    "           df.iloc[i][4],df.iloc[i][5],df.iloc[i][6],df.iloc[i][7],GSOURCE[i])\n",
    "    mycursor.execute(sql, val)\n",
    "    mydb.commit()"
   ]
  },
  {
   "cell_type": "code",
   "execution_count": null,
   "metadata": {},
   "outputs": [],
   "source": []
  }
 ],
 "metadata": {
  "kernelspec": {
   "display_name": "Python 2",
   "language": "python",
   "name": "python2"
  },
  "language_info": {
   "codemirror_mode": {
    "name": "ipython",
    "version": 2
   },
   "file_extension": ".py",
   "mimetype": "text/x-python",
   "name": "python",
   "nbconvert_exporter": "python",
   "pygments_lexer": "ipython2",
   "version": "2.7.15"
  }
 },
 "nbformat": 4,
 "nbformat_minor": 2
}
