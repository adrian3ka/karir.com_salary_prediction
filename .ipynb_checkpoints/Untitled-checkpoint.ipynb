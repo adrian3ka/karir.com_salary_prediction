{
 "cells": [
  {
   "cell_type": "markdown",
   "metadata": {},
   "source": [
    "# Define Environment"
   ]
  },
  {
   "cell_type": "code",
   "execution_count": 1,
   "metadata": {},
   "outputs": [],
   "source": [
    "ENV = 'development'"
   ]
  },
  {
   "cell_type": "code",
   "execution_count": 2,
   "metadata": {},
   "outputs": [
    {
     "name": "stderr",
     "output_type": "stream",
     "text": [
      "/home/adrianekas/.local/lib/python2.7/site-packages/psycopg2/__init__.py:144: UserWarning: The psycopg2 wheel package will be renamed from release 2.8; in order to keep installing from binary please use \"pip install psycopg2-binary\" instead. For details see: <http://initd.org/psycopg/docs/install.html#binary-install-from-pypi>.\n",
      "  \"\"\")\n"
     ]
    }
   ],
   "source": [
    "import tensorflow as tf\n",
    "import numpy as np\n",
    "import csv\n",
    "import os\n",
    "import pandas as pd\n",
    "from pandas import DataFrame as DF\n",
    "import yaml\n",
    "import psycopg2\n",
    "import sys\n",
    "import json\n",
    "import mysql.connector"
   ]
  },
  {
   "cell_type": "code",
   "execution_count": 3,
   "metadata": {},
   "outputs": [],
   "source": [
    "DIR = os.getcwd()\n",
    "PATH_QUERY = DIR + '/sql_query/'"
   ]
  },
  {
   "cell_type": "markdown",
   "metadata": {},
   "source": [
    "# Prepare Connection "
   ]
  },
  {
   "cell_type": "code",
   "execution_count": 4,
   "metadata": {},
   "outputs": [],
   "source": [
    "CONFIG_PATH = DIR + '/config/'\n",
    "\n",
    "KARIR_DATABASE = CONFIG_PATH + 'karir.database.yaml'\n",
    "with open(KARIR_DATABASE, 'r') as stream:\n",
    "    try:\n",
    "        CONFIG = yaml.load(stream)\n",
    "        KARIR_CONFIG_ENV = CONFIG[ENV]\n",
    "    except yaml.YAMLError as exc:\n",
    "        print(exc)\n",
    "\n",
    "ML_DATABASE = CONFIG_PATH + 'ml.database.yaml'\n",
    "with open(ML_DATABASE, 'r') as stream:\n",
    "    try:\n",
    "        CONFIG = yaml.load(stream)\n",
    "        ML_CONFIG_ENV = CONFIG[ENV]\n",
    "    except yaml.YAMLError as exc:\n",
    "        print(exc)"
   ]
  },
  {
   "cell_type": "markdown",
   "metadata": {},
   "source": [
    "# Prepare Query"
   ]
  },
  {
   "cell_type": "code",
   "execution_count": 5,
   "metadata": {},
   "outputs": [],
   "source": [
    "def getQuery (textFile):\n",
    "    query = \"\"\n",
    "    with open(PATH_QUERY + textFile) as f: \n",
    "        for line in f: \n",
    "            query += line\n",
    "    query.replace('\\n', ' ').replace('\\r', '').replace('\\xef', '').replace('\\xbb', '').replace('\\xbf', '')\n",
    "    return query"
   ]
  },
  {
   "cell_type": "code",
   "execution_count": 6,
   "metadata": {},
   "outputs": [],
   "source": [
    "QUERY_PREDEFINE_TIPE_PERUSAHAAN = getQuery(\"predefine_tipe_perusahaan\")\n",
    "QUERY_PREDEFINE_PENDIDIKAN_TERAKHIR = getQuery(\"predefine_pendidikan_terakhir\")\n",
    "QUERY_PREDEFINE_TIPE_INDUSTRI = getQuery (\"predefine_tipe_industri\")\n",
    "QUERY_PREDEFINE_KATEGORI_PEKERJAAN = getQuery (\"predefine_kategori_pekerjaan\")\n",
    "QUERY_PREDEFINE_JENJANG_KARIR = getQuery (\"predefine_jenjang_karir\")"
   ]
  },
  {
   "cell_type": "markdown",
   "metadata": {},
   "source": [
    "# Get Predefine Data"
   ]
  },
  {
   "cell_type": "code",
   "execution_count": 7,
   "metadata": {},
   "outputs": [],
   "source": [
    "def getPredefine(query):\n",
    "    data = {}\n",
    "    try:\n",
    "        con = psycopg2.connect(database=KARIR_CONFIG_ENV['database'],\n",
    "                               user=KARIR_CONFIG_ENV['username'], \n",
    "                               password=KARIR_CONFIG_ENV['password'],\n",
    "                               port=KARIR_CONFIG_ENV['port'],\n",
    "                               host=KARIR_CONFIG_ENV['host'])\n",
    "        cur = con.cursor()\n",
    "\n",
    "        cur.execute(query)\n",
    "\n",
    "        for row in cur:\n",
    "            data[row[0]] = row[1]\n",
    "        cur.close()\n",
    "        print(\"done\")\n",
    "    except psycopg2.DatabaseError, e:\n",
    "        print 'Error %s' % e\n",
    "        sys.exit(1)\n",
    "    finally:\n",
    "        if con:\n",
    "            con.close()\n",
    "            \n",
    "    return data"
   ]
  },
  {
   "cell_type": "code",
   "execution_count": 8,
   "metadata": {},
   "outputs": [
    {
     "name": "stdout",
     "output_type": "stream",
     "text": [
      "done\n",
      "done\n",
      "done\n",
      "done\n",
      "done\n"
     ]
    }
   ],
   "source": [
    "PREDEFINE_TIPE_PERUSAHAAN = getPredefine (QUERY_PREDEFINE_TIPE_PERUSAHAAN)\n",
    "PREDEFINE_PENDIDIKAN_TERAKHIR = getPredefine (QUERY_PREDEFINE_PENDIDIKAN_TERAKHIR)\n",
    "PREDEFINE_KATEGORI_PEKERJAAN = getPredefine (QUERY_PREDEFINE_KATEGORI_PEKERJAAN)\n",
    "PREDEFINE_TIPE_INDUSTRI = getPredefine (QUERY_PREDEFINE_TIPE_INDUSTRI)\n",
    "PREDEFINE_JENJANG_KARIR = getPredefine (QUERY_PREDEFINE_JENJANG_KARIR)"
   ]
  },
  {
   "cell_type": "code",
   "execution_count": 9,
   "metadata": {},
   "outputs": [
    {
     "name": "stdout",
     "output_type": "stream",
     "text": [
      "{'Multinasional': Decimal('8279779.961148883030'), 'Lokal/Nasional': Decimal('4914900.076726870346')}\n",
      "{'masters': Decimal('19487045.454545454545'), 'high school': Decimal('4524121.774313969481'), 'bachelors': Decimal('11350889.787580590431'), 'any': Decimal('3545954.275625000000'), 'associate': Decimal('5285752.152489982828')}\n",
      "{'Semen': Decimal('5383300.616822429907'), 'Pemerintahan': Decimal('3609326.228549141966'), 'Otomotif': Decimal('5153247.380384615385'), 'Konsultan (IT, IPTEK)': Decimal('5510157.024456521739'), 'Biro Perjalanan': Decimal('4019941.095703125000'), 'Manufaktur': Decimal('6478040.275960539979'), 'Media': Decimal('4921499.016689847010'), 'Hiburan': Decimal('4261373.517985611511'), 'Seni / Desain / Fashion': Decimal('3438035.080952380952'), 'Perikanan': Decimal('5082120.339207048458'), 'Percetakan dan Kemasan': Decimal('4402797.824959481361'), 'Kulit': Decimal('4126153.846153846154'), 'Periklanan / Penerbitan': Decimal('5035305.309401709402'), 'Komputer / TI': Decimal('6193452.700156372166'), 'Internet': Decimal('5195914.563870967742'), 'Teknologi Finansial': Decimal('6596000.000000000000'), 'Mainan': Decimal('8214829.940298507463'), 'Permen / Biskuit': Decimal('6612636.363636363636'), 'Produk Konsumen Elektronik': Decimal('5328597.449664429530'), 'Telekomunikasi': Decimal('5950034.310454545455'), 'Manufaktur Elektronik': Decimal('4934714.542936288089'), 'Desain Interior': Decimal('4705741.851648351648'), 'Rancang Bangun Pesawat': Decimal('6804285.714285714286'), 'Makanan dan Minuman': Decimal('5149887.587112171838'), 'Hotel': Decimal('5376845.194444444444'), 'Konsultan': Decimal('5909083.649713922441'), 'Jasa Pemindahan': Decimal('4665148.632812500000'), 'Manajemen Lingkungan / Limbah': Decimal('5061982.450450450450'), 'Keuangan / Bank': Decimal('5538750.578852047924'), 'Konstruksi': Decimal('6034345.250311332503'), 'Perdagangan Umum': Decimal('5228917.803173241852'), 'Bioteknologi & Biologi': Decimal('4564483.644444444444'), 'Pengolahan Sumber Daya Alam': Decimal('5401040.353191489362'), 'Keramik & Alat Kebersihan': Decimal('4157260.492063492063'), 'Tidak disebutkan': Decimal('4168531.010316875461'), 'Furnitur': Decimal('4673067.494089834515'), 'Farmasi': Decimal('5792610.038690476190'), 'Permata & Perhiasan': Decimal('3344666.666666666667'), 'Pupuk & Pestisida': Decimal('3368453.960526315789'), 'Sektor Nirlaba': Decimal('6563756.647398843931'), 'Restoran': Decimal('3998268.182312925170'), 'Konglomerasi': Decimal('24092790.697674418605'), 'Komputer / IT-Hardware': Decimal('3938280.064338235294'), 'Sumber Daya Alam Lainnya': Decimal('6056229.074766355140'), 'Perawatan Kesehatan': Decimal('4273549.228007181329'), 'Kimia': Decimal('7845406.752559726962'), 'Jasa Pengamanan': Decimal('3964103.889305816135'), 'Pertambangan / Mineral': Decimal('11203173.750775594623'), 'Properti': Decimal('7201534.663259170174'), 'Kosmetik': Decimal('5591122.766025641026'), 'Akuntan / Auditor': Decimal('5437944.201665124884'), 'Manajemen Fasilitas': Decimal('4750108.480874316940'), 'Perdagangan Komoditas': Decimal('4123797.142307692308'), 'Kelautan / Aquakultur': Decimal('5754937.500000000000'), 'Logam': Decimal('5534492.037037037037'), 'Mekanik / Listrik': Decimal('5571992.743589743590'), 'Polimer / Plastik / Karet': Decimal('5525938.507987220447'), 'Pengapalan': Decimal('7799088.626865671642'), 'Alas Kaki': Decimal('4613557.572222222222'), 'Servis': Decimal('5729989.715425531915'), 'Wisata': Decimal('3947037.582278481013'), 'Logistik / Transportasi': Decimal('5673266.257966616085'), 'Bubur Kertas / Kertas': Decimal('7250961.729729729730'), 'Garmen / Tekstil': Decimal('4472710.812728602780'), 'Kehutanan / Perkayuan': Decimal('5898191.877256317690'), 'Asuransi': Decimal('5968883.956209150327'), 'Agribisnis': Decimal('5664071.718104495747'), 'Ekspedisi / Agen Kargo': Decimal('4332283.427921092564'), 'Konsultan (Bisnis & Manajemen)': Decimal('5784555.741935483871'), 'Elektronika / Semikonduktor': Decimal('6017352.878666666667'), 'Pergudangan': Decimal('3586990.027638190955'), 'Kecantikan / Fitness': Decimal('4552063.435540069686'), 'E-Commerce': Decimal('5984260.528963414634'), 'Produk Konsumen': Decimal('6553146.595178719867'), 'Rekrutmen / KPO': Decimal('4255769.246231155779'), 'Pemrosesan Makanan': Decimal('5866943.518828451883'), 'Ritel': Decimal('4924645.865368089373'), 'Mesin / Peralatan': Decimal('5679452.874064837905'), 'Pendidikan': Decimal('3228510.272263868066'), 'Energi': Decimal('9831492.139312977099'), 'Hukum': Decimal('8066513.318264014467'), 'Penerbangan': Decimal('7201986.017283950617'), 'Minyak dan Gas': Decimal('10389851.711111111111'), 'Kurir': Decimal('3245278.019323671498'), 'Rekayasa & Konstruksi': Decimal('7631464.440154440154')}\n",
      "{'Akuntansi/Keuangan': Decimal('7362751.002410694718'), 'Pemerintahan': Decimal('5194404.057324840764'), 'Maritim': Decimal('16414446.106382978723'), 'Layanan Pelanggan': Decimal('3805359.810160427807'), 'Hospitality': Decimal('5774352.752900232019'), 'Hukum/Korporasi': Decimal('9386285.514354066986'), 'Management Trainee': Decimal('5102067.805860805861'), 'Magang': Decimal('2465622.318485523385'), 'Teknik': Decimal('7829865.673516738482'), 'Tidak disebutkan': Decimal('5648019.145093945720'), 'Konsultan': Decimal('7776242.776000000000'), 'Sumber Daya Manusia': Decimal('8364629.201981707317'), 'Pustakawan': Decimal('3198612.550000000000'), 'Riset': Decimal('6276307.857142857143'), 'Arsitek/Desain': Decimal('5288469.396980461812'), 'Manajemen': Decimal('12452100.431475409836'), 'Penjualan dan Pemasaran': Decimal('6901009.631855156127'), 'Bagian Umum': Decimal('3776208.334490740741'), 'Jurnalisme': Decimal('4605747.798219584570'), 'Operasional': Decimal('6775216.208217913204'), 'Hubungan Masyarakat': Decimal('6632269.962719298246'), 'Administrasi': Decimal('3603130.403183023873'), 'Manufaktur dan Produksi': Decimal('7198984.399680893498'), 'Kesehatan': Decimal('4984470.789276807980'), 'Penerjemah': Decimal('6740625.000000000000'), 'Bank, Keuangan & Asuransi': Decimal('6603617.450015767897'), 'Pariwisata': Decimal('4406718.860724233983'), 'Model Fashion': Decimal('5064092.456310679612'), 'Teknologi Informasi': Decimal('7143177.203780839475'), 'Pendidikan': Decimal('3807400.834901625321'), 'Ilmuwan': Decimal('6999230.784615384615'), 'Penerbangan': Decimal('11648804.000000000000')}\n",
      "{'executive vp': Decimal('14483333.333333333333'), 'senior staff': Decimal('4831193.531896668320'), 'supervisor': Decimal('6170929.777467194658'), 'entry level staff': Decimal('3372357.446259498557'), 'senior assistant manager': Decimal('9777906.805300713558'), 'not specified': Decimal('4025114.067648059905'), 'vice president': Decimal('30674711.489583333333'), 'president ceo': Decimal('17703090.134529147982'), 'business unit head': Decimal('11163139.944805194805'), 'senior manager': Decimal('18837154.273661041820'), 'director': Decimal('23661272.796116504854'), 'manager branch': Decimal('10211054.450970632155'), 'general manager': Decimal('19798577.432584269663'), 'senior vice president': Decimal('36419047.666666666667'), 'manager department': Decimal('12411500.829563182527'), 'assistant manager': Decimal('7820236.031494252874'), 'assistant vice president': Decimal('20394916.202127659574'), 'engineer': Decimal('8511997.099567099567')}\n"
     ]
    }
   ],
   "source": [
    "print PREDEFINE_TIPE_PERUSAHAAN\n",
    "print PREDEFINE_PENDIDIKAN_TERAKHIR\n",
    "print PREDEFINE_TIPE_INDUSTRI\n",
    "print PREDEFINE_KATEGORI_PEKERJAAN\n",
    "print PREDEFINE_JENJANG_KARIR"
   ]
  },
  {
   "cell_type": "code",
   "execution_count": null,
   "metadata": {},
   "outputs": [],
   "source": []
  }
 ],
 "metadata": {
  "kernelspec": {
   "display_name": "Python 2",
   "language": "python",
   "name": "python2"
  },
  "language_info": {
   "codemirror_mode": {
    "name": "ipython",
    "version": 2
   },
   "file_extension": ".py",
   "mimetype": "text/x-python",
   "name": "python",
   "nbconvert_exporter": "python",
   "pygments_lexer": "ipython2",
   "version": "2.7.15"
  }
 },
 "nbformat": 4,
 "nbformat_minor": 2
}
