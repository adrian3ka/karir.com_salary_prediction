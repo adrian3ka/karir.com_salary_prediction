{
 "cells": [
  {
   "cell_type": "code",
   "execution_count": 1,
   "metadata": {},
   "outputs": [],
   "source": [
    "DIVISOR = 1000000"
   ]
  },
  {
   "cell_type": "code",
   "execution_count": 2,
   "metadata": {},
   "outputs": [
    {
     "name": "stderr",
     "output_type": "stream",
     "text": [
      "/home/adrianekas/.local/lib/python2.7/site-packages/psycopg2/__init__.py:144: UserWarning: The psycopg2 wheel package will be renamed from release 2.8; in order to keep installing from binary please use \"pip install psycopg2-binary\" instead. For details see: <http://initd.org/psycopg/docs/install.html#binary-install-from-pypi>.\n",
      "  \"\"\")\n"
     ]
    }
   ],
   "source": [
    "import tensorflow as tf\n",
    "import json\n",
    "import numpy as np\n",
    "import csv\n",
    "import os\n",
    "import pandas as pd\n",
    "from pandas import DataFrame as DF\n",
    "import yaml\n",
    "import psycopg2\n",
    "import sys\n",
    "import json\n",
    "import mysql.connector\n",
    "import decimal"
   ]
  },
  {
   "cell_type": "code",
   "execution_count": 1,
   "metadata": {},
   "outputs": [
    {
     "ename": "NameError",
     "evalue": "name 'DIR' is not defined",
     "output_type": "error",
     "traceback": [
      "\u001b[0;31m---------------------------------------------------------------------------\u001b[0m",
      "\u001b[0;31mNameError\u001b[0m                                 Traceback (most recent call last)",
      "\u001b[0;32m<ipython-input-1-ca2f4122ef44>\u001b[0m in \u001b[0;36m<module>\u001b[0;34m()\u001b[0m\n\u001b[0;32m----> 1\u001b[0;31m \u001b[0mCONFIG_PATH\u001b[0m \u001b[0;34m=\u001b[0m \u001b[0mDIR\u001b[0m \u001b[0;34m+\u001b[0m \u001b[0;34m'/config/'\u001b[0m\u001b[0;34m\u001b[0m\u001b[0m\n\u001b[0m\u001b[1;32m      2\u001b[0m \u001b[0;34m\u001b[0m\u001b[0m\n\u001b[1;32m      3\u001b[0m \u001b[0mAPP\u001b[0m \u001b[0;34m=\u001b[0m \u001b[0mCONFIG_PATH\u001b[0m \u001b[0;34m+\u001b[0m \u001b[0;34m'app.yaml'\u001b[0m\u001b[0;34m\u001b[0m\u001b[0m\n\u001b[1;32m      4\u001b[0m \u001b[0;32mwith\u001b[0m \u001b[0mopen\u001b[0m\u001b[0;34m(\u001b[0m\u001b[0mAPP\u001b[0m\u001b[0;34m,\u001b[0m \u001b[0;34m'r'\u001b[0m\u001b[0;34m)\u001b[0m \u001b[0;32mas\u001b[0m \u001b[0mstream\u001b[0m\u001b[0;34m:\u001b[0m\u001b[0;34m\u001b[0m\u001b[0m\n\u001b[1;32m      5\u001b[0m     \u001b[0;32mtry\u001b[0m\u001b[0;34m:\u001b[0m\u001b[0;34m\u001b[0m\u001b[0m\n",
      "\u001b[0;31mNameError\u001b[0m: name 'DIR' is not defined"
     ]
    }
   ],
   "source": [
    "CONFIG_PATH = DIR + '/config/'\n",
    "\n",
    "APP = CONFIG_PATH + 'app.yaml'\n",
    "with open(APP, 'r') as stream:\n",
    "    try:\n",
    "        APP_CONFIG = yaml.load(stream)\n",
    "    except yaml.YAMLError as exc:\n",
    "        print(exc)\n",
    "\n",
    "print APP_CONFIG\n",
    "ENV = APP_CONFIG['env']\n",
    "VERSION = APP_CONFIG['version']"
   ]
  },
  {
   "cell_type": "code",
   "execution_count": 3,
   "metadata": {},
   "outputs": [],
   "source": [
    "TIPE_PERUSAHAAN = \"tipe_perusahaan\"\n",
    "PENDIDIKAN_TERAKHIR = \"pendidikan_terakhir\"\n",
    "LOCATION = \"location\"\n",
    "TIPE_INDUSTRI = \"tipe_industri\"\n",
    "KATEGORI_PEKERJAAN = \"kategori_pekerjaan\"\n",
    "JENJANG_KARIR = \"jenjang_karir\"\n",
    "PENGALAMAN_KERJA = \"pengalaman_kerja\"\n",
    "BIAS = \"bias\"\n",
    "\n",
    "PREDEFINE_TIPE_PERUSAHAAN = {}\n",
    "PREDEFINE_PENDIDIKAN_TERAKHIR = {}\n",
    "PREDEFINE_LOKASI = {}\n",
    "PREDEFINE_TIPE_INDUSTRI = {}\n",
    "PREDEFINE_KATEGORI_PEKERJAAN = {}\n",
    "PREDEFINE_JENJANG_KARIR = {}\n",
    "\n",
    "DATA_TIPE_PERUSAHAAN = []\n",
    "DATA_PENDIDIKAN_TERAKHIR = []\n",
    "DATA_LOKASI = []\n",
    "DATA_TIPE_INDUSTRI = []\n",
    "DATA_KATEGORI_PEKERJAAN = []\n",
    "DATA_JENJANG_KARIR = []\n",
    "DATA_PENGALAMAN_KERJA = []\n",
    "DATA_SALARY = []"
   ]
  },
  {
   "cell_type": "code",
   "execution_count": 4,
   "metadata": {},
   "outputs": [],
   "source": [
    "CONFIG_PATH = DIR + '/config/'\n",
    "\n",
    "ML_DATABASE = CONFIG_PATH + 'ml.database.yaml'\n",
    "with open(ML_DATABASE, 'r') as stream:\n",
    "    try:\n",
    "        CONFIG = yaml.load(stream)\n",
    "        ML_CONFIG_ENV = CONFIG[ENV]\n",
    "    except yaml.YAMLError as exc:\n",
    "        print(exc)\n",
    "\n",
    "mydb = mysql.connector.connect(\n",
    "  host=ML_CONFIG_ENV['host'],\n",
    "  port=ML_CONFIG_ENV['port'],\n",
    "  user=ML_CONFIG_ENV['username'],\n",
    "  passwd=ML_CONFIG_ENV['password'],\n",
    "  database=ML_CONFIG_ENV['database']\n",
    ")"
   ]
  },
  {
   "cell_type": "code",
   "execution_count": 5,
   "metadata": {},
   "outputs": [],
   "source": [
    "def getPredefineFor(tipe):\n",
    "    DATA = {}\n",
    "    mycursor = mydb.cursor()\n",
    "    mycursor.execute(\"SELECT kunci, nilai FROM Salary_PredefinedData WHERE versi = '\" + VERSION +\n",
    "                     \"' AND tipe = '\" + tipe + \"'\")\n",
    "    myresults = mycursor.fetchall()\n",
    "    for r in myresults:\n",
    "        DATA[r[0]] = r[1]\n",
    "    return DATA"
   ]
  },
  {
   "cell_type": "code",
   "execution_count": 6,
   "metadata": {},
   "outputs": [],
   "source": [
    "mycursor = mydb.cursor()\n",
    "mycursor.execute(\"SELECT kunci,nilai FROM Salary_PredefinedData ORDER BY id DESC LIMIT 1\")\n",
    "myresult = mycursor.fetchone()\n",
    "\n",
    "PREDEFINE_TIPE_PERUSAHAAN = getPredefineFor(TIPE_PERUSAHAAN)\n",
    "PREDEFINE_PENDIDIKAN_TERAKHIR = getPredefineFor(PENDIDIKAN_TERAKHIR)\n",
    "PREDEFINE_LOCATION = getPredefineFor(LOCATION)\n",
    "PREDEFINE_TIPE_INDUSTRI = getPredefineFor(TIPE_INDUSTRI)\n",
    "PREDEFINE_KATEGORI_PEKERJAAN = getPredefineFor(KATEGORI_PEKERJAAN)\n",
    "PREDEFINE_JENJANG_KARIR = getPredefineFor(JENJANG_KARIR)"
   ]
  },
  {
   "cell_type": "code",
   "execution_count": 7,
   "metadata": {},
   "outputs": [],
   "source": [
    "def fetchDataFromRawData():\n",
    "    mycursor = mydb.cursor()\n",
    "    mycursor.execute(\"SELECT * FROM Salary_RawData \" + \n",
    "                     \"ORDER BY id ;\")\n",
    "    myresult = mycursor.fetchall()\n",
    "    mydb.commit()\n",
    "    return myresult"
   ]
  },
  {
   "cell_type": "code",
   "execution_count": 8,
   "metadata": {},
   "outputs": [],
   "source": [
    "RawData = fetchDataFromRawData()\n",
    "\n",
    "for row in RawData:\n",
    "    DATA_TIPE_PERUSAHAAN.append(float(PREDEFINE_TIPE_PERUSAHAAN[row[1]]))\n",
    "    DATA_PENDIDIKAN_TERAKHIR.append(float(PREDEFINE_PENDIDIKAN_TERAKHIR[row[2]]))\n",
    "    DATA_LOKASI.append(float(PREDEFINE_LOCATION[row[3]]))\n",
    "    DATA_TIPE_INDUSTRI.append(float(PREDEFINE_TIPE_INDUSTRI[row[4]]))\n",
    "    DATA_KATEGORI_PEKERJAAN.append(float(PREDEFINE_KATEGORI_PEKERJAAN[row[5]]))\n",
    "    DATA_JENJANG_KARIR.append(float(PREDEFINE_JENJANG_KARIR[row[6]]))\n",
    "    DATA_PENGALAMAN_KERJA.append(float(row[7]))\n",
    "    DATA_SALARY.append(float(row[8]/DIVISOR))"
   ]
  },
  {
   "cell_type": "code",
   "execution_count": 9,
   "metadata": {},
   "outputs": [],
   "source": [
    "cols = ['Tipe Perusahaan','Pendidikan Terakhir','Lokasi',\n",
    "        'Tipe Industri','Kategori Pekerjaan','Jenjang Karir',\n",
    "        'Pengalaman Kerja']\n",
    "df = DF(list(zip(DATA_TIPE_PERUSAHAAN,DATA_PENDIDIKAN_TERAKHIR,DATA_LOKASI,\n",
    "                 DATA_TIPE_INDUSTRI, DATA_KATEGORI_PEKERJAAN,\n",
    "                 DATA_JENJANG_KARIR,DATA_PENGALAMAN_KERJA)),columns=cols)\n",
    "df['salary'] = DATA_SALARY"
   ]
  },
  {
   "cell_type": "code",
   "execution_count": 10,
   "metadata": {},
   "outputs": [],
   "source": [
    "import matplotlib.pyplot as plt\n",
    "%matplotlib inline\n",
    "\n",
    "#pd.plotting.scatter_matrix(df, figsize=(16,9))"
   ]
  },
  {
   "cell_type": "code",
   "execution_count": 11,
   "metadata": {},
   "outputs": [],
   "source": [
    "import seaborn as sns\n",
    "#plt.figure(figsize=(12,9))\n",
    "#sns.heatmap(df.corr());"
   ]
  },
  {
   "cell_type": "code",
   "execution_count": 12,
   "metadata": {},
   "outputs": [
    {
     "data": {
      "text/html": [
       "<div>\n",
       "<style scoped>\n",
       "    .dataframe tbody tr th:only-of-type {\n",
       "        vertical-align: middle;\n",
       "    }\n",
       "\n",
       "    .dataframe tbody tr th {\n",
       "        vertical-align: top;\n",
       "    }\n",
       "\n",
       "    .dataframe thead th {\n",
       "        text-align: right;\n",
       "    }\n",
       "</style>\n",
       "<table border=\"1\" class=\"dataframe\">\n",
       "  <thead>\n",
       "    <tr style=\"text-align: right;\">\n",
       "      <th></th>\n",
       "      <th>Tipe Perusahaan</th>\n",
       "      <th>Pendidikan Terakhir</th>\n",
       "      <th>Lokasi</th>\n",
       "      <th>Tipe Industri</th>\n",
       "      <th>Kategori Pekerjaan</th>\n",
       "      <th>Jenjang Karir</th>\n",
       "      <th>Pengalaman Kerja</th>\n",
       "      <th>salary</th>\n",
       "    </tr>\n",
       "  </thead>\n",
       "  <tbody>\n",
       "    <tr>\n",
       "      <th>0</th>\n",
       "      <td>0.837729</td>\n",
       "      <td>0.744437</td>\n",
       "      <td>1.42701</td>\n",
       "      <td>1.029820</td>\n",
       "      <td>1.073970</td>\n",
       "      <td>0.671351</td>\n",
       "      <td>3.500000</td>\n",
       "      <td>6.0</td>\n",
       "    </tr>\n",
       "    <tr>\n",
       "      <th>1</th>\n",
       "      <td>0.837729</td>\n",
       "      <td>0.744437</td>\n",
       "      <td>1.57028</td>\n",
       "      <td>1.182570</td>\n",
       "      <td>1.706370</td>\n",
       "      <td>0.755812</td>\n",
       "      <td>1.665530</td>\n",
       "      <td>16.0</td>\n",
       "    </tr>\n",
       "    <tr>\n",
       "      <th>2</th>\n",
       "      <td>0.837729</td>\n",
       "      <td>0.744437</td>\n",
       "      <td>1.57028</td>\n",
       "      <td>1.400400</td>\n",
       "      <td>1.276400</td>\n",
       "      <td>0.367625</td>\n",
       "      <td>0.832192</td>\n",
       "      <td>5.0</td>\n",
       "    </tr>\n",
       "    <tr>\n",
       "      <th>3</th>\n",
       "      <td>0.837729</td>\n",
       "      <td>0.744437</td>\n",
       "      <td>1.42701</td>\n",
       "      <td>0.973477</td>\n",
       "      <td>0.689861</td>\n",
       "      <td>0.367625</td>\n",
       "      <td>0.250000</td>\n",
       "      <td>4.0</td>\n",
       "    </tr>\n",
       "    <tr>\n",
       "      <th>4</th>\n",
       "      <td>1.162270</td>\n",
       "      <td>0.744437</td>\n",
       "      <td>1.31553</td>\n",
       "      <td>1.029820</td>\n",
       "      <td>1.226500</td>\n",
       "      <td>0.367625</td>\n",
       "      <td>0.183105</td>\n",
       "      <td>4.0</td>\n",
       "    </tr>\n",
       "  </tbody>\n",
       "</table>\n",
       "</div>"
      ],
      "text/plain": [
       "   Tipe Perusahaan  Pendidikan Terakhir   Lokasi  Tipe Industri  \\\n",
       "0         0.837729             0.744437  1.42701       1.029820   \n",
       "1         0.837729             0.744437  1.57028       1.182570   \n",
       "2         0.837729             0.744437  1.57028       1.400400   \n",
       "3         0.837729             0.744437  1.42701       0.973477   \n",
       "4         1.162270             0.744437  1.31553       1.029820   \n",
       "\n",
       "   Kategori Pekerjaan  Jenjang Karir  Pengalaman Kerja  salary  \n",
       "0            1.073970       0.671351          3.500000     6.0  \n",
       "1            1.706370       0.755812          1.665530    16.0  \n",
       "2            1.276400       0.367625          0.832192     5.0  \n",
       "3            0.689861       0.367625          0.250000     4.0  \n",
       "4            1.226500       0.367625          0.183105     4.0  "
      ]
     },
     "execution_count": 12,
     "metadata": {},
     "output_type": "execute_result"
    }
   ],
   "source": [
    "df.head()"
   ]
  },
  {
   "cell_type": "code",
   "execution_count": 13,
   "metadata": {},
   "outputs": [],
   "source": [
    "# train/test split\n",
    "\n",
    "X = df.iloc[:, [0,1,2,3,4,5,6]]\n",
    "Y = df.salary\n",
    "\n",
    "tr_idx = X.sample(frac=0.90).index # only take 90% of it\n",
    "Xtr = X[X.index.isin(tr_idx)].values # filter the sample\n",
    "Xts = X[~X.index.isin(tr_idx)].values\n",
    "\n",
    "Ytr = Y[Y.index.isin(tr_idx)].values\n",
    "Yts = Y[~Y.index.isin(tr_idx)].values\n"
   ]
  },
  {
   "cell_type": "code",
   "execution_count": 14,
   "metadata": {},
   "outputs": [],
   "source": [
    "tf.reset_default_graph()"
   ]
  },
  {
   "cell_type": "code",
   "execution_count": 15,
   "metadata": {},
   "outputs": [],
   "source": [
    "def getWeightOf(element):\n",
    "    mycursor = mydb.cursor(buffered=True)\n",
    "    mycursor.execute(\"SELECT nilai FROM Salary_Weighting \" + \n",
    "                     \"WHERE kunci = '\" + element+ \"'\" + \n",
    "                     \"ORDER BY id DESC;\")\n",
    "    myresult = mycursor.fetchone()\n",
    "    if (myresult == None):\n",
    "        return float(0)\n",
    "    else:\n",
    "        return float(myresult[0])"
   ]
  },
  {
   "cell_type": "code",
   "execution_count": 16,
   "metadata": {},
   "outputs": [],
   "source": [
    "WEIGHT_TIPE_PERUSAHAAN = getWeightOf(TIPE_PERUSAHAAN)\n",
    "WEIGHT_PENDIDIKAN_TERAKHIR = getWeightOf(PENDIDIKAN_TERAKHIR)\n",
    "WEIGHT_LOCATION = getWeightOf(LOCATION)\n",
    "WEIGHT_TIPE_INDUSTRI = getWeightOf(TIPE_INDUSTRI)\n",
    "WEIGHT_KATEGORI_PEKERJAAN = getWeightOf(KATEGORI_PEKERJAAN)\n",
    "WEIGHT_JENJANG_KARIR = getWeightOf(JENJANG_KARIR)\n",
    "WEIGHT_PENGALAMAN_KERJA = getWeightOf(PENGALAMAN_KERJA)\n",
    "WEIGHT_BIAS = getWeightOf(BIAS)"
   ]
  },
  {
   "cell_type": "code",
   "execution_count": 17,
   "metadata": {},
   "outputs": [],
   "source": [
    "sess = tf.Session()\n",
    "\n",
    "# create parameters\n",
    "w = tf.get_variable(name='w', initializer=[[WEIGHT_TIPE_PERUSAHAAN],\n",
    "                                           [WEIGHT_PENDIDIKAN_TERAKHIR],\n",
    "                                           [WEIGHT_LOCATION],\n",
    "                                           [WEIGHT_TIPE_INDUSTRI],\n",
    "                                           [WEIGHT_KATEGORI_PEKERJAAN],\n",
    "                                           [WEIGHT_JENJANG_KARIR],\n",
    "                                           [WEIGHT_PENGALAMAN_KERJA]])\n",
    "b = tf.get_variable(name='b', initializer=WEIGHT_BIAS)\n",
    "\n",
    "# create input placeholders\n",
    "x = tf.placeholder('float32', name='x')\n",
    "y = tf.placeholder('float32', name='y_true')"
   ]
  },
  {
   "cell_type": "code",
   "execution_count": 18,
   "metadata": {},
   "outputs": [],
   "source": [
    "#create linear model\n",
    "yhat = tf.reshape(tf.matmul(x,w) + b, [-1,], name='yhat')"
   ]
  },
  {
   "cell_type": "code",
   "execution_count": 19,
   "metadata": {},
   "outputs": [],
   "source": [
    "# Create the loss and test score functions\n",
    "\n",
    "mse = tf.reduce_mean(tf.square(y - yhat), name='mse')\n",
    "rmse = tf.sqrt(mse, name='rmse')\n",
    "\n",
    "# test score\n",
    "test_nrmse = tf.divide(rmse, tf.abs(tf.reduce_mean(y)), name='nrmse')"
   ]
  },
  {
   "cell_type": "code",
   "execution_count": 20,
   "metadata": {},
   "outputs": [],
   "source": [
    "# init vars\n",
    "init = tf.variables_initializer([w,b])\n",
    "\n",
    "# reset parameters w and b \n",
    "sess.run(init)"
   ]
  },
  {
   "cell_type": "code",
   "execution_count": 21,
   "metadata": {},
   "outputs": [
    {
     "name": "stdout",
     "output_type": "stream",
     "text": [
      "Test NRMSE: 1.85319268703\n",
      "[[0.214885]\n",
      " [0.229013]\n",
      " [0.423632]\n",
      " [0.319602]\n",
      " [0.354085]\n",
      " [0.596791]\n",
      " [1.29891 ]]\n",
      "Test NRMSE: 1.85294437408\n",
      "[[0.21348722]\n",
      " [0.22865355]\n",
      " [0.41999128]\n",
      " [0.31874537]\n",
      " [0.35312128]\n",
      " [0.6045008 ]\n",
      " [1.3010516 ]]\n",
      "Test NRMSE: 1.85269606113\n",
      "[[0.21212187]\n",
      " [0.22833231]\n",
      " [0.41644242]\n",
      " [0.3179574 ]\n",
      " [0.35220712]\n",
      " [0.6122105 ]\n",
      " [1.3031932 ]]\n",
      "Test NRMSE: 1.8524492979\n",
      "[[0.21078338]\n",
      " [0.22803228]\n",
      " [0.41296557]\n",
      " [0.31720784]\n",
      " [0.3513505 ]\n",
      " [0.61992025]\n",
      " [1.305289  ]]\n"
     ]
    }
   ],
   "source": [
    "# run optimization again with smaller learning rate\n",
    "opt = tf.train.GradientDescentOptimizer(learning_rate=0.000025)\n",
    "train = opt.minimize(rmse)\n",
    "\n",
    "for i in range(len(tr_idx)):\n",
    "    if(i % (len(tr_idx)/3) == 0 ) :\n",
    "        nrmse = sess.run(test_nrmse, {x: Xts, y: Yts})\n",
    "        print('Test NRMSE: {}'.format(nrmse))\n",
    "        #print rmse.eval(session=sess)\n",
    "        print w.eval(session=sess)\n",
    "    else:\n",
    "        sess.run(train, {x: Xtr, y: Ytr})"
   ]
  },
  {
   "cell_type": "code",
   "execution_count": 22,
   "metadata": {},
   "outputs": [
    {
     "data": {
      "text/plain": [
       "[array([[0.210783  ],\n",
       "        [0.2280322 ],\n",
       "        [0.4129646 ],\n",
       "        [0.31720763],\n",
       "        [0.35135025],\n",
       "        [0.6199224 ],\n",
       "        [1.3052895 ]], dtype=float32), 0.24674866]"
      ]
     },
     "execution_count": 22,
     "metadata": {},
     "output_type": "execute_result"
    }
   ],
   "source": [
    "sess.run([w,b])"
   ]
  },
  {
   "cell_type": "code",
   "execution_count": 23,
   "metadata": {},
   "outputs": [],
   "source": [
    "def insertWeightData(key,value):\n",
    "    sql = (\"INSERT INTO Salary_Weighting (versi, \"\n",
    "           \"kunci, nilai)\" +\n",
    "           \"VALUES (%s,%s,%s)\")\n",
    "    val = (VERSION,key,str(value))\n",
    "    mycursor.execute(sql, val)\n",
    "    mydb.commit()"
   ]
  },
  {
   "cell_type": "code",
   "execution_count": 24,
   "metadata": {},
   "outputs": [],
   "source": [
    "WEIGHT_TIPE_PERUSAHAAN = sess.run(w[0][0])\n",
    "WEIGHT_PENDIDIKAN_TERAKHIR = sess.run(w[1][0])\n",
    "WEIGHT_LOCATION = sess.run(w[2][0])\n",
    "WEIGHT_TIPE_INDUSTRI = sess.run(w[3][0])\n",
    "WEIGHT_KATEGORI_PEKERJAAN = sess.run(w[4][0])\n",
    "WEIGHT_JENJANG_KARIR = sess.run(w[5][0])\n",
    "WEIGHT_PENGALAMAN_KERJA = sess.run(w[6][0])\n",
    "WEIGHT_BIAS = sess.run(b)"
   ]
  },
  {
   "cell_type": "code",
   "execution_count": 25,
   "metadata": {},
   "outputs": [],
   "source": [
    "insertWeightData(TIPE_PERUSAHAAN,WEIGHT_TIPE_PERUSAHAAN)\n",
    "insertWeightData(PENDIDIKAN_TERAKHIR,WEIGHT_PENDIDIKAN_TERAKHIR)\n",
    "insertWeightData(LOCATION,WEIGHT_LOCATION)\n",
    "insertWeightData(TIPE_INDUSTRI,WEIGHT_TIPE_INDUSTRI)\n",
    "insertWeightData(KATEGORI_PEKERJAAN,WEIGHT_KATEGORI_PEKERJAAN)\n",
    "insertWeightData(JENJANG_KARIR,WEIGHT_JENJANG_KARIR)\n",
    "insertWeightData(PENGALAMAN_KERJA,WEIGHT_PENGALAMAN_KERJA)\n",
    "insertWeightData(BIAS,WEIGHT_BIAS)"
   ]
  }
 ],
 "metadata": {
  "kernelspec": {
   "display_name": "Python 2",
   "language": "python",
   "name": "python2"
  },
  "language_info": {
   "codemirror_mode": {
    "name": "ipython",
    "version": 2
   },
   "file_extension": ".py",
   "mimetype": "text/x-python",
   "name": "python",
   "nbconvert_exporter": "python",
   "pygments_lexer": "ipython2",
   "version": "2.7.15"
  }
 },
 "nbformat": 4,
 "nbformat_minor": 2
}
