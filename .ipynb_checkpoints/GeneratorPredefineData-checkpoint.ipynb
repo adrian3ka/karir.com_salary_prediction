{
 "cells": [
  {
   "cell_type": "markdown",
   "metadata": {},
   "source": [
    "# Define Environment"
   ]
  },
  {
   "cell_type": "code",
   "execution_count": null,
   "metadata": {},
   "outputs": [],
   "source": [
    "ENV = 'development'\n",
    "VERSION = '1.0.0'"
   ]
  },
  {
   "cell_type": "code",
   "execution_count": null,
   "metadata": {},
   "outputs": [],
   "source": [
    "import tensorflow as tf\n",
    "import json\n",
    "import numpy as np\n",
    "import csv\n",
    "import os\n",
    "import pandas as pd\n",
    "from pandas import DataFrame as DF\n",
    "import yaml\n",
    "import psycopg2\n",
    "import sys\n",
    "import json\n",
    "import mysql.connector"
   ]
  },
  {
   "cell_type": "code",
   "execution_count": null,
   "metadata": {},
   "outputs": [],
   "source": [
    "DIR = os.getcwd()\n",
    "PATH_QUERY = DIR + '/sql_query/'"
   ]
  },
  {
   "cell_type": "markdown",
   "metadata": {},
   "source": [
    "# Prepare Connection "
   ]
  },
  {
   "cell_type": "code",
   "execution_count": null,
   "metadata": {},
   "outputs": [],
   "source": [
    "CONFIG_PATH = DIR + '/config/'\n",
    "\n",
    "KARIR_DATABASE = CONFIG_PATH + 'karir.database.yaml'\n",
    "with open(KARIR_DATABASE, 'r') as stream:\n",
    "    try:\n",
    "        CONFIG = yaml.load(stream)\n",
    "        KARIR_CONFIG_ENV = CONFIG[ENV]\n",
    "    except yaml.YAMLError as exc:\n",
    "        print(exc)\n",
    "\n",
    "ML_DATABASE = CONFIG_PATH + 'ml.database.yaml'\n",
    "with open(ML_DATABASE, 'r') as stream:\n",
    "    try:\n",
    "        CONFIG = yaml.load(stream)\n",
    "        ML_CONFIG_ENV = CONFIG[ENV]\n",
    "    except yaml.YAMLError as exc:\n",
    "        print(exc)"
   ]
  },
  {
   "cell_type": "markdown",
   "metadata": {},
   "source": [
    "# Prepare Query"
   ]
  },
  {
   "cell_type": "code",
   "execution_count": null,
   "metadata": {},
   "outputs": [],
   "source": [
    "def getQuery (textFile):\n",
    "    query = \"\"\n",
    "    with open(PATH_QUERY + textFile) as f: \n",
    "        for line in f: \n",
    "            query += line\n",
    "    query.replace('\\n', ' ').replace('\\r', '').replace('\\xef', '').replace('\\xbb', '').replace('\\xbf', '')\n",
    "    return query"
   ]
  },
  {
   "cell_type": "code",
   "execution_count": null,
   "metadata": {},
   "outputs": [],
   "source": [
    "QUERY_PREDEFINE_TIPE_PERUSAHAAN = getQuery(\"predefine_tipe_perusahaan\")\n",
    "QUERY_PREDEFINE_PENDIDIKAN_TERAKHIR = getQuery(\"predefine_pendidikan_terakhir\")\n",
    "QUERY_PREDEFINE_TIPE_INDUSTRI = getQuery (\"predefine_tipe_industri\")\n",
    "QUERY_PREDEFINE_KATEGORI_PEKERJAAN = getQuery (\"predefine_kategori_pekerjaan\")\n",
    "QUERY_PREDEFINE_JENJANG_KARIR = getQuery (\"predefine_jenjang_karir\")\n",
    "QUERY_PREDEFINE_LOCATION = getQuery (\"predefine_location\")"
   ]
  },
  {
   "cell_type": "markdown",
   "metadata": {},
   "source": [
    "# Get Predefine Data"
   ]
  },
  {
   "cell_type": "code",
   "execution_count": null,
   "metadata": {},
   "outputs": [],
   "source": [
    "def getPredefine(query):\n",
    "    data = {}\n",
    "    try:\n",
    "        con = psycopg2.connect(database=KARIR_CONFIG_ENV['database'],\n",
    "                               user=KARIR_CONFIG_ENV['username'], \n",
    "                               password=KARIR_CONFIG_ENV['password'],\n",
    "                               port=KARIR_CONFIG_ENV['port'],\n",
    "                               host=KARIR_CONFIG_ENV['host'])\n",
    "        cur = con.cursor()\n",
    "\n",
    "        cur.execute(query)\n",
    "\n",
    "        for row in cur:\n",
    "            data[row[0]] = row[1]\n",
    "        cur.close()\n",
    "        print(\"done\")\n",
    "    except psycopg2.DatabaseError, e:\n",
    "        print 'Error %s' % e\n",
    "        sys.exit(1)\n",
    "    finally:\n",
    "        if con:\n",
    "            con.close()\n",
    "            \n",
    "    return data"
   ]
  },
  {
   "cell_type": "code",
   "execution_count": null,
   "metadata": {},
   "outputs": [],
   "source": [
    "PREDEFINE_TIPE_PERUSAHAAN = getPredefine (QUERY_PREDEFINE_TIPE_PERUSAHAAN)\n",
    "PREDEFINE_PENDIDIKAN_TERAKHIR = getPredefine (QUERY_PREDEFINE_PENDIDIKAN_TERAKHIR)\n",
    "PREDEFINE_KATEGORI_PEKERJAAN = getPredefine (QUERY_PREDEFINE_KATEGORI_PEKERJAAN)\n",
    "PREDEFINE_TIPE_INDUSTRI = getPredefine (QUERY_PREDEFINE_TIPE_INDUSTRI)\n",
    "PREDEFINE_JENJANG_KARIR = getPredefine (QUERY_PREDEFINE_JENJANG_KARIR)\n",
    "PREDEFINE_LOCATION = getPredefine (QUERY_PREDEFINE_LOCATION)"
   ]
  },
  {
   "cell_type": "code",
   "execution_count": null,
   "metadata": {},
   "outputs": [],
   "source": [
    "def adjustValueOf(data):\n",
    "    average = 0\n",
    "    for key in data:\n",
    "        average += data[key]\n",
    "    average = average / len(data)\n",
    "    for key in data:\n",
    "        data[key] = data[key]/average\n",
    "    return data"
   ]
  },
  {
   "cell_type": "code",
   "execution_count": null,
   "metadata": {},
   "outputs": [],
   "source": [
    "PREDEFINE_TIPE_PERUSAHAAN = adjustValueOf (PREDEFINE_TIPE_PERUSAHAAN)\n",
    "PREDEFINE_PENDIDIKAN_TERAKHIR = adjustValueOf (PREDEFINE_PENDIDIKAN_TERAKHIR)\n",
    "PREDEFINE_KATEGORI_PEKERJAAN = adjustValueOf (PREDEFINE_KATEGORI_PEKERJAAN)\n",
    "PREDEFINE_TIPE_INDUSTRI = adjustValueOf (PREDEFINE_TIPE_INDUSTRI)\n",
    "PREDEFINE_JENJANG_KARIR = adjustValueOf(PREDEFINE_JENJANG_KARIR)\n",
    "PREDEFINE_LOCATION = adjustValueOf (PREDEFINE_LOCATION)"
   ]
  },
  {
   "cell_type": "code",
   "execution_count": null,
   "metadata": {},
   "outputs": [],
   "source": [
    "mydb = mysql.connector.connect(\n",
    "  host=ML_CONFIG_ENV['host'],\n",
    "  port=ML_CONFIG_ENV['port'],\n",
    "  user=ML_CONFIG_ENV['username'],\n",
    "  passwd=ML_CONFIG_ENV['password'],\n",
    "  database=ML_CONFIG_ENV['database']\n",
    ")\n",
    "\n",
    "mycursor = mydb.cursor()"
   ]
  },
  {
   "cell_type": "code",
   "execution_count": null,
   "metadata": {},
   "outputs": [],
   "source": [
    "def insertPredefineData(tipe,key,value):\n",
    "    sql = (\"INSERT INTO Salary_PredefinedData (versi, tipe, \"\n",
    "           \"kunci, nilai)\" +\n",
    "           \"VALUES (%s,%s,%s,%s)\")\n",
    "    val = (VERSION,tipe,key,value)\n",
    "    mycursor.execute(sql, val)\n",
    "    mydb.commit()"
   ]
  },
  {
   "cell_type": "code",
   "execution_count": null,
   "metadata": {},
   "outputs": [],
   "source": [
    "def iterateJsonAndInsert(tipe,data):\n",
    "    for key,value in data.iteritems():\n",
    "        insertPredefineData(tipe,key,value)"
   ]
  },
  {
   "cell_type": "code",
   "execution_count": null,
   "metadata": {},
   "outputs": [],
   "source": [
    "iterateJsonAndInsert('tipe_perusahaan',PREDEFINE_TIPE_PERUSAHAAN)\n",
    "iterateJsonAndInsert('pendidikan_terakhir',PREDEFINE_PENDIDIKAN_TERAKHIR)\n",
    "iterateJsonAndInsert('kategori_pekerjaan',PREDEFINE_KATEGORI_PEKERJAAN)\n",
    "iterateJsonAndInsert('tipe_industri',PREDEFINE_TIPE_INDUSTRI)\n",
    "iterateJsonAndInsert('jenjang_karir',PREDEFINE_JENJANG_KARIR)\n",
    "iterateJsonAndInsert('location',PREDEFINE_LOCATION)"
   ]
  },
  {
   "cell_type": "code",
   "execution_count": null,
   "metadata": {},
   "outputs": [],
   "source": []
  }
 ],
 "metadata": {
  "kernelspec": {
   "display_name": "Python 2",
   "language": "python",
   "name": "python2"
  },
  "language_info": {
   "codemirror_mode": {
    "name": "ipython",
    "version": 2
   },
   "file_extension": ".py",
   "mimetype": "text/x-python",
   "name": "python",
   "nbconvert_exporter": "python",
   "pygments_lexer": "ipython2",
   "version": "2.7.15"
  }
 },
 "nbformat": 4,
 "nbformat_minor": 2
}
