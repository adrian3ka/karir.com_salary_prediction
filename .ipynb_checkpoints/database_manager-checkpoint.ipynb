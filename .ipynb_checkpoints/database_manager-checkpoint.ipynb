{
 "cells": [
  {
   "cell_type": "code",
   "execution_count": 1,
   "metadata": {},
   "outputs": [
    {
     "name": "stderr",
     "output_type": "stream",
     "text": [
      "/home/adrianekas/.local/lib/python2.7/site-packages/psycopg2/__init__.py:144: UserWarning: The psycopg2 wheel package will be renamed from release 2.8; in order to keep installing from binary please use \"pip install psycopg2-binary\" instead. For details see: <http://initd.org/psycopg/docs/install.html#binary-install-from-pypi>.\n",
      "  \"\"\")\n"
     ]
    }
   ],
   "source": [
    "import yaml\n",
    "import os\n",
    "import psycopg2\n",
    "import sys\n",
    "import json\n",
    "import csv"
   ]
  },
  {
   "cell_type": "markdown",
   "metadata": {},
   "source": [
    "# Prepare Connection"
   ]
  },
  {
   "cell_type": "code",
   "execution_count": 2,
   "metadata": {},
   "outputs": [],
   "source": [
    "DIR = os.getcwd()\n",
    "CONFIG_PATH = DIR + '/config/'\n",
    "DATABASE = CONFIG_PATH + 'database.yaml'\n",
    "ENV = 'development'\n",
    "with open(DATABASE, 'r') as stream:\n",
    "    try:\n",
    "        CONFIG = yaml.load(stream)\n",
    "        CONFIG_ENV = CONFIG[ENV]\n",
    "    except yaml.YAMLError as exc:\n",
    "        print(exc)"
   ]
  },
  {
   "cell_type": "markdown",
   "metadata": {},
   "source": [
    "# Prepare Data"
   ]
  },
  {
   "cell_type": "code",
   "execution_count": 3,
   "metadata": {},
   "outputs": [],
   "source": [
    "DIR = os.getcwd() \n",
    "PATH = DIR + '/input/'\n",
    "PATH_PREDEFINED = DIR + '/predefined_data/'\n",
    "PATH_WEIGHT = DIR + '/weight/'\n",
    "TIPE_PERUSAHAAN = []\n",
    "PENDIDIKAN_TERAKHIR = []\n",
    "LOKASI = []\n",
    "TIPE_INDUSTRI = []\n",
    "KATEGORI_PEKERJAAN = []\n",
    "JENJANG_KARIR = []\n",
    "PENGALAMAN_KERJA = []\n",
    "SALARY = []"
   ]
  },
  {
   "cell_type": "code",
   "execution_count": 4,
   "metadata": {},
   "outputs": [],
   "source": [
    "JSON_WEIGHT = {}\n",
    "file_tipe_industri= open( PATH_WEIGHT +\"weight.csv\", \"r\")\n",
    "reader = csv.reader(file_tipe_industri, quoting=csv.QUOTE_NONE,delimiter =',')\n",
    "next(reader,None)\n",
    "ARRAY_WEIGHT = []\n",
    "for line in reader:\n",
    "    JSON_WEIGHT[line[0]] = line[1]"
   ]
  },
  {
   "cell_type": "code",
   "execution_count": 5,
   "metadata": {},
   "outputs": [],
   "source": [
    "JSON_TIPE_PERUSAHAAN = {}\n",
    "file_tipe_perusahaan = open( PATH_PREDEFINED +\"predefined_tipe_perusahaan.csv\", \"r\")\n",
    "reader = csv.reader(file_tipe_perusahaan, quoting=csv.QUOTE_NONE)\n",
    "for line in reader:\n",
    "    JSON_TIPE_PERUSAHAAN[line[0]] = line[2]"
   ]
  },
  {
   "cell_type": "code",
   "execution_count": 6,
   "metadata": {},
   "outputs": [],
   "source": [
    "JSON_PENDIDIKAN_TERAKHIR = {}\n",
    "file_pendidikan_terakhir = open( PATH_PREDEFINED +\"predefined_pendidikan_terakhir.csv\", \"r\")\n",
    "reader = csv.reader(file_pendidikan_terakhir, quoting=csv.QUOTE_NONE)\n",
    "for line in reader:\n",
    "    JSON_PENDIDIKAN_TERAKHIR[line[0]] = line[2]"
   ]
  },
  {
   "cell_type": "code",
   "execution_count": 7,
   "metadata": {},
   "outputs": [],
   "source": [
    "JSON_LOKASI = {}\n",
    "file_location = open( PATH_PREDEFINED +\"predefined_location.csv\", \"r\")\n",
    "reader = csv.reader(file_location, quoting=csv.QUOTE_NONE)\n",
    "for line in reader:\n",
    "    JSON_LOKASI[line[0]] = line [2]"
   ]
  },
  {
   "cell_type": "code",
   "execution_count": 8,
   "metadata": {},
   "outputs": [],
   "source": [
    "JSON_TIPE_INDUSTRI = {}\n",
    "file_tipe_industri= open( PATH_PREDEFINED +\"predefined_tipe_industri.csv\", \"r\")\n",
    "reader = csv.reader(file_tipe_industri, quoting=csv.QUOTE_NONE,delimiter =';')\n",
    "for line in reader:\n",
    "    JSON_TIPE_INDUSTRI[line[0]] = line[2]"
   ]
  },
  {
   "cell_type": "code",
   "execution_count": 9,
   "metadata": {},
   "outputs": [],
   "source": [
    "JSON_KATEGORI_PEKERJAAN = {}\n",
    "file_kategori_pekerjaan= open( PATH_PREDEFINED +\"predefined_kategori_pekerjaan.csv\", \"r\")\n",
    "reader = csv.reader(file_kategori_pekerjaan, quoting=csv.QUOTE_NONE,delimiter =';')\n",
    "for line in reader:\n",
    "    JSON_KATEGORI_PEKERJAAN[line[0]] = line[2]"
   ]
  },
  {
   "cell_type": "code",
   "execution_count": 10,
   "metadata": {},
   "outputs": [],
   "source": [
    "JSON_JENJANG_KARIR = {}\n",
    "file_jenjang_karir= open( PATH_PREDEFINED +\"predefined_jenjang_karir.csv\", \"r\")\n",
    "reader = csv.reader(file_jenjang_karir, quoting=csv.QUOTE_NONE)\n",
    "for line in reader:\n",
    "    JSON_JENJANG_KARIR[line[0]] = line[2]"
   ]
  },
  {
   "cell_type": "code",
   "execution_count": 11,
   "metadata": {},
   "outputs": [
    {
     "name": "stdout",
     "output_type": "stream",
     "text": [
      "{'Multinasional': '0.627508961', 'Lokal/Nasional': '0.372491039'}\n",
      "{'masters': '4.413711062', 'high school': '1.021702927', 'bachelors': '2.56780837', 'any': '0.802274781', 'associate': '1.194502861'}\n",
      "{'Solo': '0.6441536752', 'Surabaya': '1.38323461', 'Tangerang': '0.7951902832', 'Bali': '0.9121682355', 'Makasar': '1.050997307', 'Semarang': '0.8917426926', 'Yogyakarta': '0.6597682352', 'Bandung': '1.19332489', 'DKI-Jakarta': '1.408219064', 'Medan': '1.061201007'}\n",
      "{'Otomotif': '0.2966217506', 'Manufaktur': '0.3728770435', 'Media': '0.2832822774', 'Komputer / TI': '0.3564961367', 'Internet': '0.2990776806', 'Telecommunication': '0.3424849349', 'Hotel': '0.3094920769', 'Keuangan / Bank': '0.3188113769', 'Konstruksi': '0.3473378862', 'Perdagangan Umum': '0.3009773524', 'Farmasi': '0.3334235684', 'Konglomerasi': '1.38678492', 'Kimia': '0.4515828785', 'Properti': '0.4145214971', 'Pertambangan / Mineral': '0.6448564886', 'Konsultan (IT, IPTEK)': '0.3171655273', 'Servis': '0.3298191325', 'Logistik / Transportasi': '0.3265541211', 'Agribisnis': '0.3260248819', 'Konsultan (Bisnis & Manajemen)': '0.3329599618', 'Produk Konsumen': '0.3772001753', 'Ritel': '0.2834634106', 'Pendidikan': '0.1858335722', 'Hukum': '0.4643098081', 'Minyak dan Gas': '0.5980415408'}\n",
      "{'Akuntansi/Keuangan': '0.3616598224', 'Pemerintahan': '0.2551501807', 'Maritim': '0.8062809216', 'Layanan Pelanggan': '0.1869200456', 'Hospitality': '0.2836373783', 'Hukum/Korporasi': '0.461056248', 'Management Trainee': '0.2506146053', 'Magang': '0.1211118683', 'Teknik': '0.3846045898', 'Konsultan': '0.3819706222', 'Sumber Daya Manusia': '0.4108722827', 'Pustakawan': '0.1571164971', 'Riset': '0.3082935148', 'Arsitek/Desain': '0.2597706893', 'Manajemen': '0.6116496985', 'Penjualan dan Pemasaran': '0.3389789926', 'Bagian Umum': '0.1854881192', 'Jurnalisme': '0.2262352659', 'Operasional': '0.3327999942', 'Hubungan Masyarakat': '0.3257784456', 'Administrasi': '0.1769864961', 'Manufaktur dan Produksi': '0.3536155737', 'Kesehatan': '0.244838216', 'Penerjemah': '0.331100867', 'Bank, Keuangan & Asuransi': '0.3243710283', 'Pariwisata': '0.2164589241', 'Model Fashion': '0.2487492484', 'Teknologi Informasi': '0.3508743129', 'Pendidikan': '0.1870203011', 'Ilmuwan': '0.3438036356', 'Penerbangan': '0.5721916148'}\n",
      "{'senior staff': '0.3624279951', 'assistant manager': '0.5866609249', 'entry level staff': '0.2529749632', 'manager branch': '0.7660160927', 'business unit head': '0.8374399415', 'senior manager': '1.413131561', 'senior assistant manager': '0.7335220864', 'general manager': '1.485255906', 'manager department': '0.9310898708', 'supervisor': '0.4629327499', 'assistant vice president': '1.529992235', 'engineer': '0.6385556742'}\n"
     ]
    }
   ],
   "source": [
    "print JSON_TIPE_PERUSAHAAN\n",
    "print JSON_PENDIDIKAN_TERAKHIR\n",
    "print JSON_LOKASI\n",
    "print JSON_TIPE_INDUSTRI\n",
    "print JSON_KATEGORI_PEKERJAAN\n",
    "print JSON_JENJANG_KARIR\n",
    "JSON_PREDEFINED_DATA = {}\n",
    "JSON_PREDEFINED_DATA['TIPE_PERUSAHAAN'] = JSON_TIPE_PERUSAHAAN\n",
    "JSON_PREDEFINED_DATA['PENDIDIKAN_TERAKHIR'] = JSON_PENDIDIKAN_TERAKHIR\n",
    "JSON_PREDEFINED_DATA['LOKASI'] = JSON_LOKASI\n",
    "JSON_PREDEFINED_DATA['TIPE_INDUSTRI'] = JSON_TIPE_INDUSTRI\n",
    "JSON_PREDEFINED_DATA['KATEGORI_PEKERJAAN'] = JSON_KATEGORI_PEKERJAAN\n",
    "JSON_PREDEFINED_DATA['JENJANG_KARIR'] = JSON_JENJANG_KARIR\n"
   ]
  },
  {
   "cell_type": "code",
   "execution_count": 12,
   "metadata": {},
   "outputs": [],
   "source": [
    "mapping_JSON = {}\n",
    "mapping_JSON['WEIGHT'] = JSON_WEIGHT\n",
    "mapping_JSON['PREDEFINED_DATA'] = JSON_PREDEFINED_DATA"
   ]
  },
  {
   "cell_type": "markdown",
   "metadata": {},
   "source": [
    "# Inserting Data"
   ]
  },
  {
   "cell_type": "code",
   "execution_count": 13,
   "metadata": {},
   "outputs": [
    {
     "name": "stdout",
     "output_type": "stream",
     "text": [
      "TIPE_PERUSAHAAN * PREDEFINED_TIPE_PERUSAHAAN + PENDIDIKAN_TERAKHIR * PREDEFINED_PENDIDIKAN_TERAKHIR + LOKASI * PREDEFINED_LOKASI + TIPE_INDUSTRI * PREDEFINED_TIPE_INDUSTRI + KATEGORI_PEKERJAAN * PREDEFINED_KATEGORI_PEKERJAAN + JENJANG_KARIR * PREDEFINED_JENJANG_KARIR + PENGALAMAN_KERJA * PREDEFINED_PENGALAMAN_KERJA\n",
      "INSERT INTO machine_learning_config_tables (version,mapping,formula,postfix) VALUES ('1.0.1','{\"PREDEFINED_DATA\": {\"TIPE_PERUSAHAAN\": {\"Multinasional\": \"0.627508961\", \"Lokal/Nasional\": \"0.372491039\"}, \"LOKASI\": {\"Solo\": \"0.6441536752\", \"Surabaya\": \"1.38323461\", \"Tangerang\": \"0.7951902832\", \"Bali\": \"0.9121682355\", \"Makasar\": \"1.050997307\", \"Semarang\": \"0.8917426926\", \"Yogyakarta\": \"0.6597682352\", \"Bandung\": \"1.19332489\", \"DKI-Jakarta\": \"1.408219064\", \"Medan\": \"1.061201007\"}, \"JENJANG_KARIR\": {\"senior staff\": \"0.3624279951\", \"assistant manager\": \"0.5866609249\", \"entry level staff\": \"0.2529749632\", \"manager branch\": \"0.7660160927\", \"business unit head\": \"0.8374399415\", \"senior manager\": \"1.413131561\", \"senior assistant manager\": \"0.7335220864\", \"general manager\": \"1.485255906\", \"manager department\": \"0.9310898708\", \"supervisor\": \"0.4629327499\", \"assistant vice president\": \"1.529992235\", \"engineer\": \"0.6385556742\"}, \"KATEGORI_PEKERJAAN\": {\"Akuntansi/Keuangan\": \"0.3616598224\", \"Pemerintahan\": \"0.2551501807\", \"Maritim\": \"0.8062809216\", \"Layanan Pelanggan\": \"0.1869200456\", \"Hospitality\": \"0.2836373783\", \"Hukum/Korporasi\": \"0.461056248\", \"Management Trainee\": \"0.2506146053\", \"Magang\": \"0.1211118683\", \"Teknik\": \"0.3846045898\", \"Konsultan\": \"0.3819706222\", \"Sumber Daya Manusia\": \"0.4108722827\", \"Pustakawan\": \"0.1571164971\", \"Riset\": \"0.3082935148\", \"Arsitek/Desain\": \"0.2597706893\", \"Manajemen\": \"0.6116496985\", \"Penjualan dan Pemasaran\": \"0.3389789926\", \"Bagian Umum\": \"0.1854881192\", \"Jurnalisme\": \"0.2262352659\", \"Operasional\": \"0.3327999942\", \"Hubungan Masyarakat\": \"0.3257784456\", \"Administrasi\": \"0.1769864961\", \"Manufaktur dan Produksi\": \"0.3536155737\", \"Kesehatan\": \"0.244838216\", \"Penerjemah\": \"0.331100867\", \"Bank, Keuangan & Asuransi\": \"0.3243710283\", \"Pariwisata\": \"0.2164589241\", \"Model Fashion\": \"0.2487492484\", \"Teknologi Informasi\": \"0.3508743129\", \"Pendidikan\": \"0.1870203011\", \"Ilmuwan\": \"0.3438036356\", \"Penerbangan\": \"0.5721916148\"}, \"TIPE_INDUSTRI\": {\"Otomotif\": \"0.2966217506\", \"Manufaktur\": \"0.3728770435\", \"Media\": \"0.2832822774\", \"Komputer / TI\": \"0.3564961367\", \"Internet\": \"0.2990776806\", \"Telecommunication\": \"0.3424849349\", \"Hotel\": \"0.3094920769\", \"Keuangan / Bank\": \"0.3188113769\", \"Konstruksi\": \"0.3473378862\", \"Perdagangan Umum\": \"0.3009773524\", \"Farmasi\": \"0.3334235684\", \"Konglomerasi\": \"1.38678492\", \"Kimia\": \"0.4515828785\", \"Properti\": \"0.4145214971\", \"Pertambangan / Mineral\": \"0.6448564886\", \"Konsultan (IT, IPTEK)\": \"0.3171655273\", \"Servis\": \"0.3298191325\", \"Logistik / Transportasi\": \"0.3265541211\", \"Agribisnis\": \"0.3260248819\", \"Konsultan (Bisnis & Manajemen)\": \"0.3329599618\", \"Produk Konsumen\": \"0.3772001753\", \"Ritel\": \"0.2834634106\", \"Pendidikan\": \"0.1858335722\", \"Hukum\": \"0.4643098081\", \"Minyak dan Gas\": \"0.5980415408\"}, \"PENDIDIKAN_TERAKHIR\": {\"masters\": \"4.413711062\", \"high school\": \"1.021702927\", \"bachelors\": \"2.56780837\", \"any\": \"0.802274781\", \"associate\": \"1.194502861\"}}, \"WEIGHT\": {\"TIPE_PERUSAHAAN\": \"1.5279791\", \"LOKASI\": \"-0.15334773\", \"PENGALAMAN_KERJA\": \"0.5575004\", \"JENJANG_KARIR\": \"6.518344\", \"BIAS\": \"-0.2281513\", \"KATEGORI_PEKERJAAN\": \"1.7419024\", \"TIPE_INDUSTRI\": \"0.38300294\", \"PENDIDIKAN_TERAKHIR\": \"0.75718564\"}}','TIPE_PERUSAHAAN * PREDEFINED_TIPE_PERUSAHAAN + PENDIDIKAN_TERAKHIR * PREDEFINED_PENDIDIKAN_TERAKHIR + LOKASI * PREDEFINED_LOKASI + TIPE_INDUSTRI * PREDEFINED_TIPE_INDUSTRI + KATEGORI_PEKERJAAN * PREDEFINED_KATEGORI_PEKERJAAN + JENJANG_KARIR * PREDEFINED_JENJANG_KARIR + PENGALAMAN_KERJA * PREDEFINED_PENGALAMAN_KERJA', '')\n",
      "done\n"
     ]
    }
   ],
   "source": [
    "version = \"1.0.1\"\n",
    "formula = (\"TIPE_PERUSAHAAN * PREDEFINED_TIPE_PERUSAHAAN + \" + \n",
    "          \"PENDIDIKAN_TERAKHIR * PREDEFINED_PENDIDIKAN_TERAKHIR + \" + \n",
    "          \"LOKASI * PREDEFINED_LOKASI + \" + \n",
    "          \"TIPE_INDUSTRI * PREDEFINED_TIPE_INDUSTRI + \" + \n",
    "          \"KATEGORI_PEKERJAAN * PREDEFINED_KATEGORI_PEKERJAAN + \" +\n",
    "          \"JENJANG_KARIR * PREDEFINED_JENJANG_KARIR + \" +\n",
    "          \"PENGALAMAN_KERJA * PREDEFINED_PENGALAMAN_KERJA\")\n",
    "print formula\n",
    "postfix = \"\"\n",
    "mapping = json.dumps(mapping_JSON)\n",
    "query = \"INSERT INTO machine_learning_config_tables (version,mapping,formula,postfix) VALUES ('\" + version + \"','\" + mapping + \"','\" + formula + \"', '\" + postfix + \"')\"\n",
    "print query\n",
    "\n",
    "try:\n",
    "    con = psycopg2.connect(database=CONFIG_ENV['database'],\n",
    "                           user=CONFIG_ENV['username'], \n",
    "                           password=CONFIG_ENV['password'],\n",
    "                           port=CONFIG_ENV['port'],\n",
    "                           host=CONFIG_ENV['host'])\n",
    "    cur = con.cursor()\n",
    "    \n",
    "    cur.execute(query)\n",
    "    con.commit();\n",
    "    cur.close()\n",
    "    print(\"done\")\n",
    "except psycopg2.DatabaseError, e:\n",
    "    print 'Error %s' % e\n",
    "    sys.exit(1)\n",
    "finally:\n",
    "    if con:\n",
    "        con.close()"
   ]
  }
 ],
 "metadata": {
  "kernelspec": {
   "display_name": "Python 2",
   "language": "python",
   "name": "python2"
  },
  "language_info": {
   "codemirror_mode": {
    "name": "ipython",
    "version": 2
   },
   "file_extension": ".py",
   "mimetype": "text/x-python",
   "name": "python",
   "nbconvert_exporter": "python",
   "pygments_lexer": "ipython2",
   "version": "2.7.15"
  }
 },
 "nbformat": 4,
 "nbformat_minor": 2
}
