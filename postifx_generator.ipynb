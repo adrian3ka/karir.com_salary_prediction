{
 "cells": [
  {
   "cell_type": "code",
   "execution_count": 1,
   "metadata": {},
   "outputs": [
    {
     "name": "stderr",
     "output_type": "stream",
     "text": [
      "/home/adrianekas/.local/lib/python2.7/site-packages/psycopg2/__init__.py:144: UserWarning: The psycopg2 wheel package will be renamed from release 2.8; in order to keep installing from binary please use \"pip install psycopg2-binary\" instead. For details see: <http://initd.org/psycopg/docs/install.html#binary-install-from-pypi>.\n",
      "  \"\"\")\n"
     ]
    }
   ],
   "source": [
    "import yaml\n",
    "import os\n",
    "import psycopg2\n",
    "import sys\n",
    "import json\n",
    "import csv\n",
    "import mysql.connector"
   ]
  },
  {
   "cell_type": "code",
   "execution_count": 2,
   "metadata": {},
   "outputs": [
    {
     "name": "stdout",
     "output_type": "stream",
     "text": [
      "{'version': '1.0.0', 'env': 'development'}\n"
     ]
    }
   ],
   "source": [
    "DIR = os.getcwd()\n",
    "CONFIG_PATH = DIR + '/config/'\n",
    "\n",
    "APP = CONFIG_PATH + 'app.yaml'\n",
    "with open(APP, 'r') as stream:\n",
    "    try:\n",
    "        APP_CONFIG = yaml.load(stream)\n",
    "    except yaml.YAMLError as exc:\n",
    "        print(exc)\n",
    "\n",
    "print APP_CONFIG\n",
    "ENV = APP_CONFIG['env']\n",
    "VERSION = APP_CONFIG['version']"
   ]
  },
  {
   "cell_type": "code",
   "execution_count": 3,
   "metadata": {},
   "outputs": [
    {
     "name": "stdout",
     "output_type": "stream",
     "text": [
      "285\n"
     ]
    }
   ],
   "source": [
    "FORMULA = CONFIG_PATH + 'formula.yaml'\n",
    "with open(FORMULA, 'r') as stream:\n",
    "    try:\n",
    "        FORMULA_CONFIG = yaml.load(stream)\n",
    "    except yaml.YAMLError as exc:\n",
    "        print(exc)\n",
    "\n",
    "print len(FORMULA_CONFIG['formula'])"
   ]
  },
  {
   "cell_type": "code",
   "execution_count": 4,
   "metadata": {},
   "outputs": [],
   "source": [
    "class Stack:\n",
    "     def __init__(self):\n",
    "         self.items = []\n",
    "\n",
    "     def isEmpty(self):\n",
    "         return self.items == []\n",
    "\n",
    "     def push(self, item):\n",
    "         self.items.append(item)\n",
    "\n",
    "     def pop(self):\n",
    "         return self.items.pop()\n",
    "\n",
    "     def peek(self):\n",
    "         return self.items[len(self.items)-1]\n",
    "\n",
    "     def size(self):\n",
    "         return len(self.items)"
   ]
  },
  {
   "cell_type": "code",
   "execution_count": 5,
   "metadata": {},
   "outputs": [],
   "source": [
    "stack = Stack()\n",
    "postfix_string = \"\""
   ]
  },
  {
   "cell_type": "markdown",
   "metadata": {},
   "source": [
    "# Prepare Connection"
   ]
  },
  {
   "cell_type": "code",
   "execution_count": 6,
   "metadata": {},
   "outputs": [],
   "source": [
    "ML_DATABASE = CONFIG_PATH + 'ml.database.yaml'\n",
    "with open(ML_DATABASE, 'r') as stream:\n",
    "    try:\n",
    "        CONFIG = yaml.load(stream)\n",
    "        ML_CONFIG_ENV = CONFIG[ENV]\n",
    "    except yaml.YAMLError as exc:\n",
    "        print(exc)\n",
    "\n",
    "mydb = mysql.connector.connect(\n",
    "  host=ML_CONFIG_ENV['host'],\n",
    "  port=ML_CONFIG_ENV['port'],\n",
    "  user=ML_CONFIG_ENV['username'],\n",
    "  passwd=ML_CONFIG_ENV['password'],\n",
    "  database=ML_CONFIG_ENV['database']\n",
    ")"
   ]
  },
  {
   "cell_type": "markdown",
   "metadata": {},
   "source": [
    "# Spliting Elements"
   ]
  },
  {
   "cell_type": "code",
   "execution_count": 7,
   "metadata": {},
   "outputs": [],
   "source": [
    "formula = FORMULA_CONFIG['formula']\n",
    "elements = formula.split(\" \")"
   ]
  },
  {
   "cell_type": "markdown",
   "metadata": {},
   "source": [
    "# Insert Data"
   ]
  },
  {
   "cell_type": "code",
   "execution_count": 8,
   "metadata": {},
   "outputs": [],
   "source": [
    "def getPriority(char):\n",
    "    if (char == \"+\" or char == \"-\"):\n",
    "        return 1 #lower priority\n",
    "    elif (char == \"*\" or char == \"/\"):\n",
    "        return 2 #higher priority"
   ]
  },
  {
   "cell_type": "code",
   "execution_count": 9,
   "metadata": {},
   "outputs": [],
   "source": [
    "def is_it_operand(element):\n",
    "    if (element != \"(\" and element != \")\" and element != \"-\" and element != \"+\" and element != \"/\" and element != \"*\"):\n",
    "        return True\n",
    "    else:\n",
    "        return False"
   ]
  },
  {
   "cell_type": "code",
   "execution_count": 10,
   "metadata": {},
   "outputs": [],
   "source": [
    "def pop_all_element_until_find_open_bracket():\n",
    "    global postfix_string\n",
    "    while True:\n",
    "        if stack.peek() == \"(\":\n",
    "            stack.pop()\n",
    "            return\n",
    "        else:\n",
    "            postfix_string += stack.pop() + \" \""
   ]
  },
  {
   "cell_type": "code",
   "execution_count": 11,
   "metadata": {},
   "outputs": [],
   "source": [
    "def pop_all():\n",
    "    global postfix_string\n",
    "    for i in range (0,stack.size()):\n",
    "        postfix_string += stack.pop() + \" \""
   ]
  },
  {
   "cell_type": "code",
   "execution_count": 12,
   "metadata": {},
   "outputs": [],
   "source": [
    "#elements = \"4 + 6 * ( 5 - 2 ) / 3\"\n",
    "for e in elements:\n",
    "    if is_it_operand(e):\n",
    "        postfix_string += e + \" \"\n",
    "    else:\n",
    "        if e == \"(\":\n",
    "            stack.push(e)\n",
    "            continue\n",
    "        elif e == \")\":\n",
    "            pop_all_element_until_find_open_bracket()\n",
    "            continue\n",
    "            \n",
    "        if not stack.isEmpty():\n",
    "            if getPriority(stack.peek()) >= getPriority(e):\n",
    "                postfix_string += stack.pop() + \" \"\n",
    "        stack.push(e)"
   ]
  },
  {
   "cell_type": "code",
   "execution_count": 13,
   "metadata": {},
   "outputs": [],
   "source": [
    "pop_all()"
   ]
  },
  {
   "cell_type": "code",
   "execution_count": 14,
   "metadata": {},
   "outputs": [
    {
     "name": "stdout",
     "output_type": "stream",
     "text": [
      "TIPE_PERUSAHAAN W_TIPE_PERUSAHAAN * PENDIDIKAN_TERAKHIR W_PENDIDIKAN_TERAKHIR * + LOCATION W_LOCATION * + TIPE_INDUSTRI W_TIPE_INDUSTRI * + KATEGORI_PEKERJAAN W_KATEGORI_PEKERJAAN * + JENJANG_KARIR W_JENJANG_KARIR * + PENGALAMAN_KERJA W_PENGALAMAN_KERJA * + \n"
     ]
    }
   ],
   "source": [
    "print postfix_string"
   ]
  },
  {
   "cell_type": "markdown",
   "metadata": {},
   "source": [
    "# Update Data In Database"
   ]
  },
  {
   "cell_type": "code",
   "execution_count": 17,
   "metadata": {},
   "outputs": [],
   "source": [
    "def insertFormulaData(formula,postfix_string):\n",
    "    sql = (\"INSERT INTO Salary_Formula (versi, \"\n",
    "           \"infix, postfix)\" +\n",
    "           \"VALUES (%s,%s,%s)\")\n",
    "    mycursor = mydb.cursor()\n",
    "    val = (VERSION,formula,postfix_string)\n",
    "    mycursor.execute(sql, val)\n",
    "    mydb.commit()"
   ]
  },
  {
   "cell_type": "code",
   "execution_count": 18,
   "metadata": {},
   "outputs": [],
   "source": [
    "insertFormulaData(formula,postfix_string)"
   ]
  },
  {
   "cell_type": "code",
   "execution_count": null,
   "metadata": {},
   "outputs": [],
   "source": []
  }
 ],
 "metadata": {
  "kernelspec": {
   "display_name": "Python 2",
   "language": "python",
   "name": "python2"
  },
  "language_info": {
   "codemirror_mode": {
    "name": "ipython",
    "version": 2
   },
   "file_extension": ".py",
   "mimetype": "text/x-python",
   "name": "python",
   "nbconvert_exporter": "python",
   "pygments_lexer": "ipython2",
   "version": "2.7.15"
  }
 },
 "nbformat": 4,
 "nbformat_minor": 2
}
